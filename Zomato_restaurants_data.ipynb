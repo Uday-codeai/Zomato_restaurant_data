{
  "nbformat": 4,
  "nbformat_minor": 0,
  "metadata": {
    "colab": {
      "provenance": []
    },
    "kernelspec": {
      "name": "python3",
      "display_name": "Python 3"
    },
    "language_info": {
      "name": "python"
    }
  },
  "cells": [
    {
      "cell_type": "code",
      "execution_count": 2,
      "metadata": {
        "colab": {
          "base_uri": "https://localhost:8080/"
        },
        "id": "J6i-Syr_BSvJ",
        "outputId": "b5f2e446-46f7-4c33-d6a8-67fbe2955dc6"
      },
      "outputs": [
        {
          "output_type": "stream",
          "name": "stdout",
          "text": [
            "Downloading from https://www.kaggle.com/api/v1/datasets/download/shrutimehta/zomato-restaurants-data?dataset_version_number=2...\n"
          ]
        },
        {
          "output_type": "stream",
          "name": "stderr",
          "text": [
            "100%|██████████| 5.47M/5.47M [00:00<00:00, 160MB/s]"
          ]
        },
        {
          "output_type": "stream",
          "name": "stdout",
          "text": [
            "Extracting files...\n"
          ]
        },
        {
          "output_type": "stream",
          "name": "stderr",
          "text": [
            "\n"
          ]
        },
        {
          "output_type": "stream",
          "name": "stdout",
          "text": [
            "Path to dataset files: /root/.cache/kagglehub/datasets/shrutimehta/zomato-restaurants-data/versions/2\n"
          ]
        }
      ],
      "source": [
        "import kagglehub\n",
        "\n",
        "# Download latest version\n",
        "path = kagglehub.dataset_download(\"shrutimehta/zomato-restaurants-data\")\n",
        "\n",
        "print(\"Path to dataset files:\", path)"
      ]
    },
    {
      "cell_type": "code",
      "source": [
        "import numpy as np\n",
        "import pandas as pd\n",
        "import matplotlib.pyplot as plt\n",
        "import seaborn as sns"
      ],
      "metadata": {
        "id": "WdYRMGH-Cjyl"
      },
      "execution_count": 3,
      "outputs": []
    },
    {
      "cell_type": "code",
      "source": [
        "import pandas as pd\n",
        "file_path = \"zomato.csv\"\n",
        "\n",
        "\n",
        "df = pd.read_csv(file_path, encoding='ISO-8859-1')\n",
        "df.info()"
      ],
      "metadata": {
        "colab": {
          "base_uri": "https://localhost:8080/"
        },
        "id": "jJlD87OkCpmy",
        "outputId": "14ac3492-a1f3-4d4e-a139-fb4a645673f7"
      },
      "execution_count": 4,
      "outputs": [
        {
          "output_type": "stream",
          "name": "stdout",
          "text": [
            "<class 'pandas.core.frame.DataFrame'>\n",
            "RangeIndex: 9551 entries, 0 to 9550\n",
            "Data columns (total 21 columns):\n",
            " #   Column                Non-Null Count  Dtype  \n",
            "---  ------                --------------  -----  \n",
            " 0   Restaurant ID         9551 non-null   int64  \n",
            " 1   Restaurant Name       9551 non-null   object \n",
            " 2   Country Code          9551 non-null   int64  \n",
            " 3   City                  9551 non-null   object \n",
            " 4   Address               9551 non-null   object \n",
            " 5   Locality              9551 non-null   object \n",
            " 6   Locality Verbose      9551 non-null   object \n",
            " 7   Longitude             9551 non-null   float64\n",
            " 8   Latitude              9551 non-null   float64\n",
            " 9   Cuisines              9542 non-null   object \n",
            " 10  Average Cost for two  9551 non-null   int64  \n",
            " 11  Currency              9551 non-null   object \n",
            " 12  Has Table booking     9551 non-null   object \n",
            " 13  Has Online delivery   9551 non-null   object \n",
            " 14  Is delivering now     9551 non-null   object \n",
            " 15  Switch to order menu  9551 non-null   object \n",
            " 16  Price range           9551 non-null   int64  \n",
            " 17  Aggregate rating      9551 non-null   float64\n",
            " 18  Rating color          9551 non-null   object \n",
            " 19  Rating text           9551 non-null   object \n",
            " 20  Votes                 9551 non-null   int64  \n",
            "dtypes: float64(3), int64(5), object(13)\n",
            "memory usage: 1.5+ MB\n"
          ]
        }
      ]
    },
    {
      "cell_type": "code",
      "source": [
        "import pandas as pd\n",
        "file_path_country_code = \"Country-Code.xlsx\"\n",
        "df_country_code = pd.read_excel(file_path_country_code)\n",
        "\n",
        "df_merged = pd.merge(df, df_country_code, on='Country Code', how='left')\n",
        "df_merged.head()"
      ],
      "metadata": {
        "colab": {
          "base_uri": "https://localhost:8080/",
          "height": 811
        },
        "id": "Ra2Oufaj4n04",
        "outputId": "3020244a-b9f3-4a10-d13a-38c48cf02c7b"
      },
      "execution_count": 5,
      "outputs": [
        {
          "output_type": "execute_result",
          "data": {
            "text/plain": [
              "   Restaurant ID         Restaurant Name  Country Code              City  \\\n",
              "0        6317637        Le Petit Souffle           162       Makati City   \n",
              "1        6304287        Izakaya Kikufuji           162       Makati City   \n",
              "2        6300002  Heat - Edsa Shangri-La           162  Mandaluyong City   \n",
              "3        6318506                    Ooma           162  Mandaluyong City   \n",
              "4        6314302             Sambo Kojin           162  Mandaluyong City   \n",
              "\n",
              "                                             Address  \\\n",
              "0  Third Floor, Century City Mall, Kalayaan Avenu...   \n",
              "1  Little Tokyo, 2277 Chino Roces Avenue, Legaspi...   \n",
              "2  Edsa Shangri-La, 1 Garden Way, Ortigas, Mandal...   \n",
              "3  Third Floor, Mega Fashion Hall, SM Megamall, O...   \n",
              "4  Third Floor, Mega Atrium, SM Megamall, Ortigas...   \n",
              "\n",
              "                                     Locality  \\\n",
              "0   Century City Mall, Poblacion, Makati City   \n",
              "1  Little Tokyo, Legaspi Village, Makati City   \n",
              "2  Edsa Shangri-La, Ortigas, Mandaluyong City   \n",
              "3      SM Megamall, Ortigas, Mandaluyong City   \n",
              "4      SM Megamall, Ortigas, Mandaluyong City   \n",
              "\n",
              "                                    Locality Verbose   Longitude   Latitude  \\\n",
              "0  Century City Mall, Poblacion, Makati City, Mak...  121.027535  14.565443   \n",
              "1  Little Tokyo, Legaspi Village, Makati City, Ma...  121.014101  14.553708   \n",
              "2  Edsa Shangri-La, Ortigas, Mandaluyong City, Ma...  121.056831  14.581404   \n",
              "3  SM Megamall, Ortigas, Mandaluyong City, Mandal...  121.056475  14.585318   \n",
              "4  SM Megamall, Ortigas, Mandaluyong City, Mandal...  121.057508  14.584450   \n",
              "\n",
              "                           Cuisines  ...  Has Table booking  \\\n",
              "0        French, Japanese, Desserts  ...                Yes   \n",
              "1                          Japanese  ...                Yes   \n",
              "2  Seafood, Asian, Filipino, Indian  ...                Yes   \n",
              "3                   Japanese, Sushi  ...                 No   \n",
              "4                  Japanese, Korean  ...                Yes   \n",
              "\n",
              "  Has Online delivery Is delivering now Switch to order menu Price range  \\\n",
              "0                  No                No                   No           3   \n",
              "1                  No                No                   No           3   \n",
              "2                  No                No                   No           4   \n",
              "3                  No                No                   No           4   \n",
              "4                  No                No                   No           4   \n",
              "\n",
              "  Aggregate rating  Rating color  Rating text Votes      Country  \n",
              "0              4.8    Dark Green    Excellent   314  Phillipines  \n",
              "1              4.5    Dark Green    Excellent   591  Phillipines  \n",
              "2              4.4         Green    Very Good   270  Phillipines  \n",
              "3              4.9    Dark Green    Excellent   365  Phillipines  \n",
              "4              4.8    Dark Green    Excellent   229  Phillipines  \n",
              "\n",
              "[5 rows x 22 columns]"
            ],
            "text/html": [
              "\n",
              "  <div id=\"df-0269ca0e-6ba6-49a5-b49d-1bb2728ae7bb\" class=\"colab-df-container\">\n",
              "    <div>\n",
              "<style scoped>\n",
              "    .dataframe tbody tr th:only-of-type {\n",
              "        vertical-align: middle;\n",
              "    }\n",
              "\n",
              "    .dataframe tbody tr th {\n",
              "        vertical-align: top;\n",
              "    }\n",
              "\n",
              "    .dataframe thead th {\n",
              "        text-align: right;\n",
              "    }\n",
              "</style>\n",
              "<table border=\"1\" class=\"dataframe\">\n",
              "  <thead>\n",
              "    <tr style=\"text-align: right;\">\n",
              "      <th></th>\n",
              "      <th>Restaurant ID</th>\n",
              "      <th>Restaurant Name</th>\n",
              "      <th>Country Code</th>\n",
              "      <th>City</th>\n",
              "      <th>Address</th>\n",
              "      <th>Locality</th>\n",
              "      <th>Locality Verbose</th>\n",
              "      <th>Longitude</th>\n",
              "      <th>Latitude</th>\n",
              "      <th>Cuisines</th>\n",
              "      <th>...</th>\n",
              "      <th>Has Table booking</th>\n",
              "      <th>Has Online delivery</th>\n",
              "      <th>Is delivering now</th>\n",
              "      <th>Switch to order menu</th>\n",
              "      <th>Price range</th>\n",
              "      <th>Aggregate rating</th>\n",
              "      <th>Rating color</th>\n",
              "      <th>Rating text</th>\n",
              "      <th>Votes</th>\n",
              "      <th>Country</th>\n",
              "    </tr>\n",
              "  </thead>\n",
              "  <tbody>\n",
              "    <tr>\n",
              "      <th>0</th>\n",
              "      <td>6317637</td>\n",
              "      <td>Le Petit Souffle</td>\n",
              "      <td>162</td>\n",
              "      <td>Makati City</td>\n",
              "      <td>Third Floor, Century City Mall, Kalayaan Avenu...</td>\n",
              "      <td>Century City Mall, Poblacion, Makati City</td>\n",
              "      <td>Century City Mall, Poblacion, Makati City, Mak...</td>\n",
              "      <td>121.027535</td>\n",
              "      <td>14.565443</td>\n",
              "      <td>French, Japanese, Desserts</td>\n",
              "      <td>...</td>\n",
              "      <td>Yes</td>\n",
              "      <td>No</td>\n",
              "      <td>No</td>\n",
              "      <td>No</td>\n",
              "      <td>3</td>\n",
              "      <td>4.8</td>\n",
              "      <td>Dark Green</td>\n",
              "      <td>Excellent</td>\n",
              "      <td>314</td>\n",
              "      <td>Phillipines</td>\n",
              "    </tr>\n",
              "    <tr>\n",
              "      <th>1</th>\n",
              "      <td>6304287</td>\n",
              "      <td>Izakaya Kikufuji</td>\n",
              "      <td>162</td>\n",
              "      <td>Makati City</td>\n",
              "      <td>Little Tokyo, 2277 Chino Roces Avenue, Legaspi...</td>\n",
              "      <td>Little Tokyo, Legaspi Village, Makati City</td>\n",
              "      <td>Little Tokyo, Legaspi Village, Makati City, Ma...</td>\n",
              "      <td>121.014101</td>\n",
              "      <td>14.553708</td>\n",
              "      <td>Japanese</td>\n",
              "      <td>...</td>\n",
              "      <td>Yes</td>\n",
              "      <td>No</td>\n",
              "      <td>No</td>\n",
              "      <td>No</td>\n",
              "      <td>3</td>\n",
              "      <td>4.5</td>\n",
              "      <td>Dark Green</td>\n",
              "      <td>Excellent</td>\n",
              "      <td>591</td>\n",
              "      <td>Phillipines</td>\n",
              "    </tr>\n",
              "    <tr>\n",
              "      <th>2</th>\n",
              "      <td>6300002</td>\n",
              "      <td>Heat - Edsa Shangri-La</td>\n",
              "      <td>162</td>\n",
              "      <td>Mandaluyong City</td>\n",
              "      <td>Edsa Shangri-La, 1 Garden Way, Ortigas, Mandal...</td>\n",
              "      <td>Edsa Shangri-La, Ortigas, Mandaluyong City</td>\n",
              "      <td>Edsa Shangri-La, Ortigas, Mandaluyong City, Ma...</td>\n",
              "      <td>121.056831</td>\n",
              "      <td>14.581404</td>\n",
              "      <td>Seafood, Asian, Filipino, Indian</td>\n",
              "      <td>...</td>\n",
              "      <td>Yes</td>\n",
              "      <td>No</td>\n",
              "      <td>No</td>\n",
              "      <td>No</td>\n",
              "      <td>4</td>\n",
              "      <td>4.4</td>\n",
              "      <td>Green</td>\n",
              "      <td>Very Good</td>\n",
              "      <td>270</td>\n",
              "      <td>Phillipines</td>\n",
              "    </tr>\n",
              "    <tr>\n",
              "      <th>3</th>\n",
              "      <td>6318506</td>\n",
              "      <td>Ooma</td>\n",
              "      <td>162</td>\n",
              "      <td>Mandaluyong City</td>\n",
              "      <td>Third Floor, Mega Fashion Hall, SM Megamall, O...</td>\n",
              "      <td>SM Megamall, Ortigas, Mandaluyong City</td>\n",
              "      <td>SM Megamall, Ortigas, Mandaluyong City, Mandal...</td>\n",
              "      <td>121.056475</td>\n",
              "      <td>14.585318</td>\n",
              "      <td>Japanese, Sushi</td>\n",
              "      <td>...</td>\n",
              "      <td>No</td>\n",
              "      <td>No</td>\n",
              "      <td>No</td>\n",
              "      <td>No</td>\n",
              "      <td>4</td>\n",
              "      <td>4.9</td>\n",
              "      <td>Dark Green</td>\n",
              "      <td>Excellent</td>\n",
              "      <td>365</td>\n",
              "      <td>Phillipines</td>\n",
              "    </tr>\n",
              "    <tr>\n",
              "      <th>4</th>\n",
              "      <td>6314302</td>\n",
              "      <td>Sambo Kojin</td>\n",
              "      <td>162</td>\n",
              "      <td>Mandaluyong City</td>\n",
              "      <td>Third Floor, Mega Atrium, SM Megamall, Ortigas...</td>\n",
              "      <td>SM Megamall, Ortigas, Mandaluyong City</td>\n",
              "      <td>SM Megamall, Ortigas, Mandaluyong City, Mandal...</td>\n",
              "      <td>121.057508</td>\n",
              "      <td>14.584450</td>\n",
              "      <td>Japanese, Korean</td>\n",
              "      <td>...</td>\n",
              "      <td>Yes</td>\n",
              "      <td>No</td>\n",
              "      <td>No</td>\n",
              "      <td>No</td>\n",
              "      <td>4</td>\n",
              "      <td>4.8</td>\n",
              "      <td>Dark Green</td>\n",
              "      <td>Excellent</td>\n",
              "      <td>229</td>\n",
              "      <td>Phillipines</td>\n",
              "    </tr>\n",
              "  </tbody>\n",
              "</table>\n",
              "<p>5 rows × 22 columns</p>\n",
              "</div>\n",
              "    <div class=\"colab-df-buttons\">\n",
              "\n",
              "  <div class=\"colab-df-container\">\n",
              "    <button class=\"colab-df-convert\" onclick=\"convertToInteractive('df-0269ca0e-6ba6-49a5-b49d-1bb2728ae7bb')\"\n",
              "            title=\"Convert this dataframe to an interactive table.\"\n",
              "            style=\"display:none;\">\n",
              "\n",
              "  <svg xmlns=\"http://www.w3.org/2000/svg\" height=\"24px\" viewBox=\"0 -960 960 960\">\n",
              "    <path d=\"M120-120v-720h720v720H120Zm60-500h600v-160H180v160Zm220 220h160v-160H400v160Zm0 220h160v-160H400v160ZM180-400h160v-160H180v160Zm440 0h160v-160H620v160ZM180-180h160v-160H180v160Zm440 0h160v-160H620v160Z\"/>\n",
              "  </svg>\n",
              "    </button>\n",
              "\n",
              "  <style>\n",
              "    .colab-df-container {\n",
              "      display:flex;\n",
              "      gap: 12px;\n",
              "    }\n",
              "\n",
              "    .colab-df-convert {\n",
              "      background-color: #E8F0FE;\n",
              "      border: none;\n",
              "      border-radius: 50%;\n",
              "      cursor: pointer;\n",
              "      display: none;\n",
              "      fill: #1967D2;\n",
              "      height: 32px;\n",
              "      padding: 0 0 0 0;\n",
              "      width: 32px;\n",
              "    }\n",
              "\n",
              "    .colab-df-convert:hover {\n",
              "      background-color: #E2EBFA;\n",
              "      box-shadow: 0px 1px 2px rgba(60, 64, 67, 0.3), 0px 1px 3px 1px rgba(60, 64, 67, 0.15);\n",
              "      fill: #174EA6;\n",
              "    }\n",
              "\n",
              "    .colab-df-buttons div {\n",
              "      margin-bottom: 4px;\n",
              "    }\n",
              "\n",
              "    [theme=dark] .colab-df-convert {\n",
              "      background-color: #3B4455;\n",
              "      fill: #D2E3FC;\n",
              "    }\n",
              "\n",
              "    [theme=dark] .colab-df-convert:hover {\n",
              "      background-color: #434B5C;\n",
              "      box-shadow: 0px 1px 3px 1px rgba(0, 0, 0, 0.15);\n",
              "      filter: drop-shadow(0px 1px 2px rgba(0, 0, 0, 0.3));\n",
              "      fill: #FFFFFF;\n",
              "    }\n",
              "  </style>\n",
              "\n",
              "    <script>\n",
              "      const buttonEl =\n",
              "        document.querySelector('#df-0269ca0e-6ba6-49a5-b49d-1bb2728ae7bb button.colab-df-convert');\n",
              "      buttonEl.style.display =\n",
              "        google.colab.kernel.accessAllowed ? 'block' : 'none';\n",
              "\n",
              "      async function convertToInteractive(key) {\n",
              "        const element = document.querySelector('#df-0269ca0e-6ba6-49a5-b49d-1bb2728ae7bb');\n",
              "        const dataTable =\n",
              "          await google.colab.kernel.invokeFunction('convertToInteractive',\n",
              "                                                    [key], {});\n",
              "        if (!dataTable) return;\n",
              "\n",
              "        const docLinkHtml = 'Like what you see? Visit the ' +\n",
              "          '<a target=\"_blank\" href=https://colab.research.google.com/notebooks/data_table.ipynb>data table notebook</a>'\n",
              "          + ' to learn more about interactive tables.';\n",
              "        element.innerHTML = '';\n",
              "        dataTable['output_type'] = 'display_data';\n",
              "        await google.colab.output.renderOutput(dataTable, element);\n",
              "        const docLink = document.createElement('div');\n",
              "        docLink.innerHTML = docLinkHtml;\n",
              "        element.appendChild(docLink);\n",
              "      }\n",
              "    </script>\n",
              "  </div>\n",
              "\n",
              "\n",
              "    <div id=\"df-c9f3f94d-28d2-43a5-8d1d-f0a1a1cf1b4d\">\n",
              "      <button class=\"colab-df-quickchart\" onclick=\"quickchart('df-c9f3f94d-28d2-43a5-8d1d-f0a1a1cf1b4d')\"\n",
              "                title=\"Suggest charts\"\n",
              "                style=\"display:none;\">\n",
              "\n",
              "<svg xmlns=\"http://www.w3.org/2000/svg\" height=\"24px\"viewBox=\"0 0 24 24\"\n",
              "     width=\"24px\">\n",
              "    <g>\n",
              "        <path d=\"M19 3H5c-1.1 0-2 .9-2 2v14c0 1.1.9 2 2 2h14c1.1 0 2-.9 2-2V5c0-1.1-.9-2-2-2zM9 17H7v-7h2v7zm4 0h-2V7h2v10zm4 0h-2v-4h2v4z\"/>\n",
              "    </g>\n",
              "</svg>\n",
              "      </button>\n",
              "\n",
              "<style>\n",
              "  .colab-df-quickchart {\n",
              "      --bg-color: #E8F0FE;\n",
              "      --fill-color: #1967D2;\n",
              "      --hover-bg-color: #E2EBFA;\n",
              "      --hover-fill-color: #174EA6;\n",
              "      --disabled-fill-color: #AAA;\n",
              "      --disabled-bg-color: #DDD;\n",
              "  }\n",
              "\n",
              "  [theme=dark] .colab-df-quickchart {\n",
              "      --bg-color: #3B4455;\n",
              "      --fill-color: #D2E3FC;\n",
              "      --hover-bg-color: #434B5C;\n",
              "      --hover-fill-color: #FFFFFF;\n",
              "      --disabled-bg-color: #3B4455;\n",
              "      --disabled-fill-color: #666;\n",
              "  }\n",
              "\n",
              "  .colab-df-quickchart {\n",
              "    background-color: var(--bg-color);\n",
              "    border: none;\n",
              "    border-radius: 50%;\n",
              "    cursor: pointer;\n",
              "    display: none;\n",
              "    fill: var(--fill-color);\n",
              "    height: 32px;\n",
              "    padding: 0;\n",
              "    width: 32px;\n",
              "  }\n",
              "\n",
              "  .colab-df-quickchart:hover {\n",
              "    background-color: var(--hover-bg-color);\n",
              "    box-shadow: 0 1px 2px rgba(60, 64, 67, 0.3), 0 1px 3px 1px rgba(60, 64, 67, 0.15);\n",
              "    fill: var(--button-hover-fill-color);\n",
              "  }\n",
              "\n",
              "  .colab-df-quickchart-complete:disabled,\n",
              "  .colab-df-quickchart-complete:disabled:hover {\n",
              "    background-color: var(--disabled-bg-color);\n",
              "    fill: var(--disabled-fill-color);\n",
              "    box-shadow: none;\n",
              "  }\n",
              "\n",
              "  .colab-df-spinner {\n",
              "    border: 2px solid var(--fill-color);\n",
              "    border-color: transparent;\n",
              "    border-bottom-color: var(--fill-color);\n",
              "    animation:\n",
              "      spin 1s steps(1) infinite;\n",
              "  }\n",
              "\n",
              "  @keyframes spin {\n",
              "    0% {\n",
              "      border-color: transparent;\n",
              "      border-bottom-color: var(--fill-color);\n",
              "      border-left-color: var(--fill-color);\n",
              "    }\n",
              "    20% {\n",
              "      border-color: transparent;\n",
              "      border-left-color: var(--fill-color);\n",
              "      border-top-color: var(--fill-color);\n",
              "    }\n",
              "    30% {\n",
              "      border-color: transparent;\n",
              "      border-left-color: var(--fill-color);\n",
              "      border-top-color: var(--fill-color);\n",
              "      border-right-color: var(--fill-color);\n",
              "    }\n",
              "    40% {\n",
              "      border-color: transparent;\n",
              "      border-right-color: var(--fill-color);\n",
              "      border-top-color: var(--fill-color);\n",
              "    }\n",
              "    60% {\n",
              "      border-color: transparent;\n",
              "      border-right-color: var(--fill-color);\n",
              "    }\n",
              "    80% {\n",
              "      border-color: transparent;\n",
              "      border-right-color: var(--fill-color);\n",
              "      border-bottom-color: var(--fill-color);\n",
              "    }\n",
              "    90% {\n",
              "      border-color: transparent;\n",
              "      border-bottom-color: var(--fill-color);\n",
              "    }\n",
              "  }\n",
              "</style>\n",
              "\n",
              "      <script>\n",
              "        async function quickchart(key) {\n",
              "          const quickchartButtonEl =\n",
              "            document.querySelector('#' + key + ' button');\n",
              "          quickchartButtonEl.disabled = true;  // To prevent multiple clicks.\n",
              "          quickchartButtonEl.classList.add('colab-df-spinner');\n",
              "          try {\n",
              "            const charts = await google.colab.kernel.invokeFunction(\n",
              "                'suggestCharts', [key], {});\n",
              "          } catch (error) {\n",
              "            console.error('Error during call to suggestCharts:', error);\n",
              "          }\n",
              "          quickchartButtonEl.classList.remove('colab-df-spinner');\n",
              "          quickchartButtonEl.classList.add('colab-df-quickchart-complete');\n",
              "        }\n",
              "        (() => {\n",
              "          let quickchartButtonEl =\n",
              "            document.querySelector('#df-c9f3f94d-28d2-43a5-8d1d-f0a1a1cf1b4d button');\n",
              "          quickchartButtonEl.style.display =\n",
              "            google.colab.kernel.accessAllowed ? 'block' : 'none';\n",
              "        })();\n",
              "      </script>\n",
              "    </div>\n",
              "\n",
              "    </div>\n",
              "  </div>\n"
            ],
            "application/vnd.google.colaboratory.intrinsic+json": {
              "type": "dataframe",
              "variable_name": "df_merged"
            }
          },
          "metadata": {},
          "execution_count": 5
        }
      ]
    },
    {
      "cell_type": "code",
      "source": [
        "# Filter the merged DataFrame by country\n",
        "indiaRes = df_merged[df_merged['Country'] == 'India']\n",
        "singaporeRes = df_merged[df_merged['Country'] == 'Singapore']\n",
        "AusRes = df_merged[df_merged['Country'] == 'Australia']\n",
        "BrazRes = df_merged[df_merged['Country'] == 'Brazil']\n",
        "CanadaRes = df_merged[df_merged['Country'] == 'Canada']\n",
        "UaeRes = df_merged[df_merged['Country'] == 'United Arab Emirates']\n",
        "UKRes = df_merged[df_merged['Country'] == 'UK']\n",
        "USARes = df_merged[df_merged['Country'] == 'USA']"
      ],
      "metadata": {
        "id": "4tYhQ4r94-kQ"
      },
      "execution_count": 6,
      "outputs": []
    },
    {
      "cell_type": "code",
      "source": [
        "indiaRes.City.value_counts()"
      ],
      "metadata": {
        "colab": {
          "base_uri": "https://localhost:8080/",
          "height": 1000
        },
        "id": "qgHRAayyBMHh",
        "outputId": "608be996-2ea1-4e9e-a428-b838daefcfb9"
      },
      "execution_count": 7,
      "outputs": [
        {
          "output_type": "execute_result",
          "data": {
            "text/plain": [
              "City\n",
              "New Delhi       5473\n",
              "Gurgaon         1118\n",
              "Noida           1080\n",
              "Faridabad        251\n",
              "Ghaziabad         25\n",
              "Guwahati          21\n",
              "Lucknow           21\n",
              "Bhubaneshwar      21\n",
              "Ahmedabad         21\n",
              "Amritsar          21\n",
              "Allahabad         20\n",
              "Varanasi          20\n",
              "Coimbatore        20\n",
              "Chennai           20\n",
              "Bhopal            20\n",
              "Aurangabad        20\n",
              "Bangalore         20\n",
              "Agra              20\n",
              "Goa               20\n",
              "Kolkata           20\n",
              "Jaipur            20\n",
              "Kochi             20\n",
              "Kanpur            20\n",
              "Mangalore         20\n",
              "Ludhiana          20\n",
              "Indore            20\n",
              "Dehradun          20\n",
              "Vizag             20\n",
              "Pune              20\n",
              "Mumbai            20\n",
              "Mysore            20\n",
              "Nashik            20\n",
              "Nagpur            20\n",
              "Patna             20\n",
              "Puducherry        20\n",
              "Ranchi            20\n",
              "Vadodara          20\n",
              "Surat             20\n",
              "Chandigarh        18\n",
              "Hyderabad         18\n",
              "Secunderabad       2\n",
              "Mohali             1\n",
              "Panchkula          1\n",
              "Name: count, dtype: int64"
            ],
            "text/html": [
              "<div>\n",
              "<style scoped>\n",
              "    .dataframe tbody tr th:only-of-type {\n",
              "        vertical-align: middle;\n",
              "    }\n",
              "\n",
              "    .dataframe tbody tr th {\n",
              "        vertical-align: top;\n",
              "    }\n",
              "\n",
              "    .dataframe thead th {\n",
              "        text-align: right;\n",
              "    }\n",
              "</style>\n",
              "<table border=\"1\" class=\"dataframe\">\n",
              "  <thead>\n",
              "    <tr style=\"text-align: right;\">\n",
              "      <th></th>\n",
              "      <th>count</th>\n",
              "    </tr>\n",
              "    <tr>\n",
              "      <th>City</th>\n",
              "      <th></th>\n",
              "    </tr>\n",
              "  </thead>\n",
              "  <tbody>\n",
              "    <tr>\n",
              "      <th>New Delhi</th>\n",
              "      <td>5473</td>\n",
              "    </tr>\n",
              "    <tr>\n",
              "      <th>Gurgaon</th>\n",
              "      <td>1118</td>\n",
              "    </tr>\n",
              "    <tr>\n",
              "      <th>Noida</th>\n",
              "      <td>1080</td>\n",
              "    </tr>\n",
              "    <tr>\n",
              "      <th>Faridabad</th>\n",
              "      <td>251</td>\n",
              "    </tr>\n",
              "    <tr>\n",
              "      <th>Ghaziabad</th>\n",
              "      <td>25</td>\n",
              "    </tr>\n",
              "    <tr>\n",
              "      <th>Guwahati</th>\n",
              "      <td>21</td>\n",
              "    </tr>\n",
              "    <tr>\n",
              "      <th>Lucknow</th>\n",
              "      <td>21</td>\n",
              "    </tr>\n",
              "    <tr>\n",
              "      <th>Bhubaneshwar</th>\n",
              "      <td>21</td>\n",
              "    </tr>\n",
              "    <tr>\n",
              "      <th>Ahmedabad</th>\n",
              "      <td>21</td>\n",
              "    </tr>\n",
              "    <tr>\n",
              "      <th>Amritsar</th>\n",
              "      <td>21</td>\n",
              "    </tr>\n",
              "    <tr>\n",
              "      <th>Allahabad</th>\n",
              "      <td>20</td>\n",
              "    </tr>\n",
              "    <tr>\n",
              "      <th>Varanasi</th>\n",
              "      <td>20</td>\n",
              "    </tr>\n",
              "    <tr>\n",
              "      <th>Coimbatore</th>\n",
              "      <td>20</td>\n",
              "    </tr>\n",
              "    <tr>\n",
              "      <th>Chennai</th>\n",
              "      <td>20</td>\n",
              "    </tr>\n",
              "    <tr>\n",
              "      <th>Bhopal</th>\n",
              "      <td>20</td>\n",
              "    </tr>\n",
              "    <tr>\n",
              "      <th>Aurangabad</th>\n",
              "      <td>20</td>\n",
              "    </tr>\n",
              "    <tr>\n",
              "      <th>Bangalore</th>\n",
              "      <td>20</td>\n",
              "    </tr>\n",
              "    <tr>\n",
              "      <th>Agra</th>\n",
              "      <td>20</td>\n",
              "    </tr>\n",
              "    <tr>\n",
              "      <th>Goa</th>\n",
              "      <td>20</td>\n",
              "    </tr>\n",
              "    <tr>\n",
              "      <th>Kolkata</th>\n",
              "      <td>20</td>\n",
              "    </tr>\n",
              "    <tr>\n",
              "      <th>Jaipur</th>\n",
              "      <td>20</td>\n",
              "    </tr>\n",
              "    <tr>\n",
              "      <th>Kochi</th>\n",
              "      <td>20</td>\n",
              "    </tr>\n",
              "    <tr>\n",
              "      <th>Kanpur</th>\n",
              "      <td>20</td>\n",
              "    </tr>\n",
              "    <tr>\n",
              "      <th>Mangalore</th>\n",
              "      <td>20</td>\n",
              "    </tr>\n",
              "    <tr>\n",
              "      <th>Ludhiana</th>\n",
              "      <td>20</td>\n",
              "    </tr>\n",
              "    <tr>\n",
              "      <th>Indore</th>\n",
              "      <td>20</td>\n",
              "    </tr>\n",
              "    <tr>\n",
              "      <th>Dehradun</th>\n",
              "      <td>20</td>\n",
              "    </tr>\n",
              "    <tr>\n",
              "      <th>Vizag</th>\n",
              "      <td>20</td>\n",
              "    </tr>\n",
              "    <tr>\n",
              "      <th>Pune</th>\n",
              "      <td>20</td>\n",
              "    </tr>\n",
              "    <tr>\n",
              "      <th>Mumbai</th>\n",
              "      <td>20</td>\n",
              "    </tr>\n",
              "    <tr>\n",
              "      <th>Mysore</th>\n",
              "      <td>20</td>\n",
              "    </tr>\n",
              "    <tr>\n",
              "      <th>Nashik</th>\n",
              "      <td>20</td>\n",
              "    </tr>\n",
              "    <tr>\n",
              "      <th>Nagpur</th>\n",
              "      <td>20</td>\n",
              "    </tr>\n",
              "    <tr>\n",
              "      <th>Patna</th>\n",
              "      <td>20</td>\n",
              "    </tr>\n",
              "    <tr>\n",
              "      <th>Puducherry</th>\n",
              "      <td>20</td>\n",
              "    </tr>\n",
              "    <tr>\n",
              "      <th>Ranchi</th>\n",
              "      <td>20</td>\n",
              "    </tr>\n",
              "    <tr>\n",
              "      <th>Vadodara</th>\n",
              "      <td>20</td>\n",
              "    </tr>\n",
              "    <tr>\n",
              "      <th>Surat</th>\n",
              "      <td>20</td>\n",
              "    </tr>\n",
              "    <tr>\n",
              "      <th>Chandigarh</th>\n",
              "      <td>18</td>\n",
              "    </tr>\n",
              "    <tr>\n",
              "      <th>Hyderabad</th>\n",
              "      <td>18</td>\n",
              "    </tr>\n",
              "    <tr>\n",
              "      <th>Secunderabad</th>\n",
              "      <td>2</td>\n",
              "    </tr>\n",
              "    <tr>\n",
              "      <th>Mohali</th>\n",
              "      <td>1</td>\n",
              "    </tr>\n",
              "    <tr>\n",
              "      <th>Panchkula</th>\n",
              "      <td>1</td>\n",
              "    </tr>\n",
              "  </tbody>\n",
              "</table>\n",
              "</div><br><label><b>dtype:</b> int64</label>"
            ]
          },
          "metadata": {},
          "execution_count": 7
        }
      ]
    },
    {
      "cell_type": "code",
      "source": [
        "indiaRes.Cuisines.value_counts()"
      ],
      "metadata": {
        "colab": {
          "base_uri": "https://localhost:8080/",
          "height": 490
        },
        "id": "tFesmlHjBYGh",
        "outputId": "e7a2d1cb-b0da-4013-cd8f-1e8fbd445562"
      },
      "execution_count": 8,
      "outputs": [
        {
          "output_type": "execute_result",
          "data": {
            "text/plain": [
              "Cuisines\n",
              "North Indian                                      936\n",
              "North Indian, Chinese                             511\n",
              "Fast Food                                         348\n",
              "Chinese                                           340\n",
              "North Indian, Mughlai                             334\n",
              "                                                 ... \n",
              "North Indian, Mediterranean, Asian, Chinese         1\n",
              "North Indian, Mexican, Italian, Continental         1\n",
              "North Indian, Continental, European                 1\n",
              "Asian, Japanese, Chinese, Thai                      1\n",
              "Japanese, Chinese, Malaysian, Thai, Vietnamese      1\n",
              "Name: count, Length: 1392, dtype: int64"
            ],
            "text/html": [
              "<div>\n",
              "<style scoped>\n",
              "    .dataframe tbody tr th:only-of-type {\n",
              "        vertical-align: middle;\n",
              "    }\n",
              "\n",
              "    .dataframe tbody tr th {\n",
              "        vertical-align: top;\n",
              "    }\n",
              "\n",
              "    .dataframe thead th {\n",
              "        text-align: right;\n",
              "    }\n",
              "</style>\n",
              "<table border=\"1\" class=\"dataframe\">\n",
              "  <thead>\n",
              "    <tr style=\"text-align: right;\">\n",
              "      <th></th>\n",
              "      <th>count</th>\n",
              "    </tr>\n",
              "    <tr>\n",
              "      <th>Cuisines</th>\n",
              "      <th></th>\n",
              "    </tr>\n",
              "  </thead>\n",
              "  <tbody>\n",
              "    <tr>\n",
              "      <th>North Indian</th>\n",
              "      <td>936</td>\n",
              "    </tr>\n",
              "    <tr>\n",
              "      <th>North Indian, Chinese</th>\n",
              "      <td>511</td>\n",
              "    </tr>\n",
              "    <tr>\n",
              "      <th>Fast Food</th>\n",
              "      <td>348</td>\n",
              "    </tr>\n",
              "    <tr>\n",
              "      <th>Chinese</th>\n",
              "      <td>340</td>\n",
              "    </tr>\n",
              "    <tr>\n",
              "      <th>North Indian, Mughlai</th>\n",
              "      <td>334</td>\n",
              "    </tr>\n",
              "    <tr>\n",
              "      <th>...</th>\n",
              "      <td>...</td>\n",
              "    </tr>\n",
              "    <tr>\n",
              "      <th>North Indian, Mediterranean, Asian, Chinese</th>\n",
              "      <td>1</td>\n",
              "    </tr>\n",
              "    <tr>\n",
              "      <th>North Indian, Mexican, Italian, Continental</th>\n",
              "      <td>1</td>\n",
              "    </tr>\n",
              "    <tr>\n",
              "      <th>North Indian, Continental, European</th>\n",
              "      <td>1</td>\n",
              "    </tr>\n",
              "    <tr>\n",
              "      <th>Asian, Japanese, Chinese, Thai</th>\n",
              "      <td>1</td>\n",
              "    </tr>\n",
              "    <tr>\n",
              "      <th>Japanese, Chinese, Malaysian, Thai, Vietnamese</th>\n",
              "      <td>1</td>\n",
              "    </tr>\n",
              "  </tbody>\n",
              "</table>\n",
              "<p>1392 rows × 1 columns</p>\n",
              "</div><br><label><b>dtype:</b> int64</label>"
            ]
          },
          "metadata": {},
          "execution_count": 8
        }
      ]
    },
    {
      "cell_type": "markdown",
      "source": [
        "delhi top restaurants"
      ],
      "metadata": {
        "id": "Ir5VTQwLFW2Q"
      }
    },
    {
      "cell_type": "code",
      "source": [
        "# Wrap each condition in parentheses\n",
        "DelhiTopRes= indiaRes[(indiaRes['City'] == 'New Delhi') & (indiaRes['Aggregate rating'] > 4.5)][['Aggregate rating', 'Restaurant Name', 'Votes']].sort_values(ascending=False, by='Votes')"
      ],
      "metadata": {
        "collapsed": true,
        "id": "EHhNvhbUBnD3"
      },
      "execution_count": 9,
      "outputs": []
    },
    {
      "cell_type": "code",
      "source": [
        "DelhiTopRes.style.apply(lambda x: ['background-color: yellow' if x.name == 'Votes' else 'background-color: lightblue' for i in x])"
      ],
      "metadata": {
        "colab": {
          "base_uri": "https://localhost:8080/",
          "height": 582
        },
        "id": "G7ka_sqxC19y",
        "outputId": "d9e414c6-90c2-4c8b-929f-092dcb5102e5"
      },
      "execution_count": 10,
      "outputs": [
        {
          "output_type": "execute_result",
          "data": {
            "text/plain": [
              "<pandas.io.formats.style.Styler at 0x7ad1c9774510>"
            ],
            "text/html": [
              "<style type=\"text/css\">\n",
              "#T_9642b_row0_col0, #T_9642b_row0_col1, #T_9642b_row1_col0, #T_9642b_row1_col1, #T_9642b_row2_col0, #T_9642b_row2_col1, #T_9642b_row3_col0, #T_9642b_row3_col1, #T_9642b_row4_col0, #T_9642b_row4_col1, #T_9642b_row5_col0, #T_9642b_row5_col1, #T_9642b_row6_col0, #T_9642b_row6_col1, #T_9642b_row7_col0, #T_9642b_row7_col1, #T_9642b_row8_col0, #T_9642b_row8_col1, #T_9642b_row9_col0, #T_9642b_row9_col1, #T_9642b_row10_col0, #T_9642b_row10_col1, #T_9642b_row11_col0, #T_9642b_row11_col1, #T_9642b_row12_col0, #T_9642b_row12_col1, #T_9642b_row13_col0, #T_9642b_row13_col1, #T_9642b_row14_col0, #T_9642b_row14_col1, #T_9642b_row15_col0, #T_9642b_row15_col1, #T_9642b_row16_col0, #T_9642b_row16_col1 {\n",
              "  background-color: lightblue;\n",
              "}\n",
              "#T_9642b_row0_col2, #T_9642b_row1_col2, #T_9642b_row2_col2, #T_9642b_row3_col2, #T_9642b_row4_col2, #T_9642b_row5_col2, #T_9642b_row6_col2, #T_9642b_row7_col2, #T_9642b_row8_col2, #T_9642b_row9_col2, #T_9642b_row10_col2, #T_9642b_row11_col2, #T_9642b_row12_col2, #T_9642b_row13_col2, #T_9642b_row14_col2, #T_9642b_row15_col2, #T_9642b_row16_col2 {\n",
              "  background-color: yellow;\n",
              "}\n",
              "</style>\n",
              "<table id=\"T_9642b\" class=\"dataframe\">\n",
              "  <thead>\n",
              "    <tr>\n",
              "      <th class=\"blank level0\" >&nbsp;</th>\n",
              "      <th id=\"T_9642b_level0_col0\" class=\"col_heading level0 col0\" >Aggregate rating</th>\n",
              "      <th id=\"T_9642b_level0_col1\" class=\"col_heading level0 col1\" >Restaurant Name</th>\n",
              "      <th id=\"T_9642b_level0_col2\" class=\"col_heading level0 col2\" >Votes</th>\n",
              "    </tr>\n",
              "  </thead>\n",
              "  <tbody>\n",
              "    <tr>\n",
              "      <th id=\"T_9642b_level0_row0\" class=\"row_heading level0 row0\" >3013</th>\n",
              "      <td id=\"T_9642b_row0_col0\" class=\"data row0 col0\" >4.900000</td>\n",
              "      <td id=\"T_9642b_row0_col1\" class=\"data row0 col1\" >Naturals Ice Cream</td>\n",
              "      <td id=\"T_9642b_row0_col2\" class=\"data row0 col2\" >2620</td>\n",
              "    </tr>\n",
              "    <tr>\n",
              "      <th id=\"T_9642b_level0_row1\" class=\"row_heading level0 row1\" >3601</th>\n",
              "      <td id=\"T_9642b_row1_col0\" class=\"data row1 col0\" >4.900000</td>\n",
              "      <td id=\"T_9642b_row1_col1\" class=\"data row1 col1\" >Indian Accent - The Manor</td>\n",
              "      <td id=\"T_9642b_row1_col2\" class=\"data row1 col2\" >1934</td>\n",
              "    </tr>\n",
              "    <tr>\n",
              "      <th id=\"T_9642b_level0_row2\" class=\"row_heading level0 row2\" >6659</th>\n",
              "      <td id=\"T_9642b_row2_col0\" class=\"data row2 col0\" >4.600000</td>\n",
              "      <td id=\"T_9642b_row2_col1\" class=\"data row2 col1\" >The California Boulevard</td>\n",
              "      <td id=\"T_9642b_row2_col2\" class=\"data row2 col2\" >1691</td>\n",
              "    </tr>\n",
              "    <tr>\n",
              "      <th id=\"T_9642b_level0_row3\" class=\"row_heading level0 row3\" >4639</th>\n",
              "      <td id=\"T_9642b_row3_col0\" class=\"data row3 col0\" >4.600000</td>\n",
              "      <td id=\"T_9642b_row3_col1\" class=\"data row3 col1\" >Big Chill</td>\n",
              "      <td id=\"T_9642b_row3_col2\" class=\"data row3 col2\" >1569</td>\n",
              "    </tr>\n",
              "    <tr>\n",
              "      <th id=\"T_9642b_level0_row4\" class=\"row_heading level0 row4\" >6997</th>\n",
              "      <td id=\"T_9642b_row4_col0\" class=\"data row4 col0\" >4.700000</td>\n",
              "      <td id=\"T_9642b_row4_col1\" class=\"data row4 col1\" >Echoes Satyaniketan</td>\n",
              "      <td id=\"T_9642b_row4_col2\" class=\"data row4 col2\" >1563</td>\n",
              "    </tr>\n",
              "    <tr>\n",
              "      <th id=\"T_9642b_level0_row5\" class=\"row_heading level0 row5\" >7849</th>\n",
              "      <td id=\"T_9642b_row5_col0\" class=\"data row5 col0\" >4.600000</td>\n",
              "      <td id=\"T_9642b_row5_col1\" class=\"data row5 col1\" >Cafeteria & Co.</td>\n",
              "      <td id=\"T_9642b_row5_col2\" class=\"data row5 col2\" >1136</td>\n",
              "    </tr>\n",
              "    <tr>\n",
              "      <th id=\"T_9642b_level0_row6\" class=\"row_heading level0 row6\" >3310</th>\n",
              "      <td id=\"T_9642b_row6_col0\" class=\"data row6 col0\" >4.600000</td>\n",
              "      <td id=\"T_9642b_row6_col1\" class=\"data row6 col1\" >Spezia Bistro</td>\n",
              "      <td id=\"T_9642b_row6_col2\" class=\"data row6 col2\" >1071</td>\n",
              "    </tr>\n",
              "    <tr>\n",
              "      <th id=\"T_9642b_level0_row7\" class=\"row_heading level0 row7\" >6657</th>\n",
              "      <td id=\"T_9642b_row7_col0\" class=\"data row7 col0\" >4.700000</td>\n",
              "      <td id=\"T_9642b_row7_col1\" class=\"data row7 col1\" >Naturals Ice Cream</td>\n",
              "      <td id=\"T_9642b_row7_col2\" class=\"data row7 col2\" >474</td>\n",
              "    </tr>\n",
              "    <tr>\n",
              "      <th id=\"T_9642b_level0_row8\" class=\"row_heading level0 row8\" >4298</th>\n",
              "      <td id=\"T_9642b_row8_col0\" class=\"data row8 col0\" >4.900000</td>\n",
              "      <td id=\"T_9642b_row8_col1\" class=\"data row8 col1\" >Masala Library</td>\n",
              "      <td id=\"T_9642b_row8_col2\" class=\"data row8 col2\" >408</td>\n",
              "    </tr>\n",
              "    <tr>\n",
              "      <th id=\"T_9642b_level0_row9\" class=\"row_heading level0 row9\" >3732</th>\n",
              "      <td id=\"T_9642b_row9_col0\" class=\"data row9 col0\" >4.600000</td>\n",
              "      <td id=\"T_9642b_row9_col1\" class=\"data row9 col1\" >Tashan</td>\n",
              "      <td id=\"T_9642b_row9_col2\" class=\"data row9 col2\" >304</td>\n",
              "    </tr>\n",
              "    <tr>\n",
              "      <th id=\"T_9642b_level0_row10\" class=\"row_heading level0 row10\" >7067</th>\n",
              "      <td id=\"T_9642b_row10_col0\" class=\"data row10 col0\" >4.700000</td>\n",
              "      <td id=\"T_9642b_row10_col1\" class=\"data row10 col1\" >Pa Pa Ya</td>\n",
              "      <td id=\"T_9642b_row10_col2\" class=\"data row10 col2\" >268</td>\n",
              "    </tr>\n",
              "    <tr>\n",
              "      <th id=\"T_9642b_level0_row11\" class=\"row_heading level0 row11\" >3014</th>\n",
              "      <td id=\"T_9642b_row11_col0\" class=\"data row11 col0\" >4.700000</td>\n",
              "      <td id=\"T_9642b_row11_col1\" class=\"data row11 col1\" >Zabardast Indian Kitchen</td>\n",
              "      <td id=\"T_9642b_row11_col2\" class=\"data row11 col2\" >242</td>\n",
              "    </tr>\n",
              "    <tr>\n",
              "      <th id=\"T_9642b_level0_row12\" class=\"row_heading level0 row12\" >6655</th>\n",
              "      <td id=\"T_9642b_row12_col0\" class=\"data row12 col0\" >4.600000</td>\n",
              "      <td id=\"T_9642b_row12_col1\" class=\"data row12 col1\" >Band Baaja Baaraat</td>\n",
              "      <td id=\"T_9642b_row12_col2\" class=\"data row12 col2\" >128</td>\n",
              "    </tr>\n",
              "    <tr>\n",
              "      <th id=\"T_9642b_level0_row13\" class=\"row_heading level0 row13\" >7180</th>\n",
              "      <td id=\"T_9642b_row13_col0\" class=\"data row13 col0\" >4.600000</td>\n",
              "      <td id=\"T_9642b_row13_col1\" class=\"data row13 col1\" >Greenr Cafe</td>\n",
              "      <td id=\"T_9642b_row13_col2\" class=\"data row13 col2\" >112</td>\n",
              "    </tr>\n",
              "    <tr>\n",
              "      <th id=\"T_9642b_level0_row14\" class=\"row_heading level0 row14\" >6656</th>\n",
              "      <td id=\"T_9642b_row14_col0\" class=\"data row14 col0\" >4.800000</td>\n",
              "      <td id=\"T_9642b_row14_col1\" class=\"data row14 col1\" >Kopper Kadai</td>\n",
              "      <td id=\"T_9642b_row14_col2\" class=\"data row14 col2\" >83</td>\n",
              "    </tr>\n",
              "    <tr>\n",
              "      <th id=\"T_9642b_level0_row15\" class=\"row_heading level0 row15\" >6426</th>\n",
              "      <td id=\"T_9642b_row15_col0\" class=\"data row15 col0\" >4.600000</td>\n",
              "      <td id=\"T_9642b_row15_col1\" class=\"data row15 col1\" >Food Scouts</td>\n",
              "      <td id=\"T_9642b_row15_col2\" class=\"data row15 col2\" >61</td>\n",
              "    </tr>\n",
              "    <tr>\n",
              "      <th id=\"T_9642b_level0_row16\" class=\"row_heading level0 row16\" >3012</th>\n",
              "      <td id=\"T_9642b_row16_col0\" class=\"data row16 col0\" >4.700000</td>\n",
              "      <td id=\"T_9642b_row16_col1\" class=\"data row16 col1\" >MOB Brewpub</td>\n",
              "      <td id=\"T_9642b_row16_col2\" class=\"data row16 col2\" >52</td>\n",
              "    </tr>\n",
              "  </tbody>\n",
              "</table>\n"
            ]
          },
          "metadata": {},
          "execution_count": 10
        }
      ]
    },
    {
      "cell_type": "markdown",
      "source": [
        "singapore"
      ],
      "metadata": {
        "id": "kIdheUwBGQ0d"
      }
    },
    {
      "cell_type": "code",
      "source": [
        "singaporeRes = df_merged[df_merged['Country'] == 'Singapore']\n",
        "singaporeRes.City.value_counts()"
      ],
      "metadata": {
        "colab": {
          "base_uri": "https://localhost:8080/",
          "height": 147
        },
        "id": "Xjq-wQ6IGqxU",
        "outputId": "13202257-1459-4677-9e17-6f2f9a1b7b16"
      },
      "execution_count": 11,
      "outputs": [
        {
          "output_type": "execute_result",
          "data": {
            "text/plain": [
              "City\n",
              "Singapore    20\n",
              "Name: count, dtype: int64"
            ],
            "text/html": [
              "<div>\n",
              "<style scoped>\n",
              "    .dataframe tbody tr th:only-of-type {\n",
              "        vertical-align: middle;\n",
              "    }\n",
              "\n",
              "    .dataframe tbody tr th {\n",
              "        vertical-align: top;\n",
              "    }\n",
              "\n",
              "    .dataframe thead th {\n",
              "        text-align: right;\n",
              "    }\n",
              "</style>\n",
              "<table border=\"1\" class=\"dataframe\">\n",
              "  <thead>\n",
              "    <tr style=\"text-align: right;\">\n",
              "      <th></th>\n",
              "      <th>count</th>\n",
              "    </tr>\n",
              "    <tr>\n",
              "      <th>City</th>\n",
              "      <th></th>\n",
              "    </tr>\n",
              "  </thead>\n",
              "  <tbody>\n",
              "    <tr>\n",
              "      <th>Singapore</th>\n",
              "      <td>20</td>\n",
              "    </tr>\n",
              "  </tbody>\n",
              "</table>\n",
              "</div><br><label><b>dtype:</b> int64</label>"
            ]
          },
          "metadata": {},
          "execution_count": 11
        }
      ]
    },
    {
      "cell_type": "code",
      "source": [
        "singaporeRes = df_merged[df_merged['Country'] == 'Singapore']\n",
        "\n",
        "singaporeTopRes = singaporeRes[(singaporeRes['City'] == 'Singapore') & (singaporeRes['Aggregate rating'] > 2)][['Aggregate rating', 'Restaurant Name', 'Votes']].sort_values(ascending=False, by='Votes')"
      ],
      "metadata": {
        "id": "tz8g944rFslm"
      },
      "execution_count": 12,
      "outputs": []
    },
    {
      "cell_type": "code",
      "source": [
        "singaporeTopRes.style.apply(lambda x: ['background-color: yellow' if x.name == 'Votes' else 'background-color: lightblue' for i in x])"
      ],
      "metadata": {
        "colab": {
          "base_uri": "https://localhost:8080/",
          "height": 677
        },
        "id": "r37cHM7sHERP",
        "outputId": "21de6684-6d19-4d76-9c41-fee6bf84ab16"
      },
      "execution_count": 13,
      "outputs": [
        {
          "output_type": "execute_result",
          "data": {
            "text/plain": [
              "<pandas.io.formats.style.Styler at 0x7ad1c8bf2d50>"
            ],
            "text/html": [
              "<style type=\"text/css\">\n",
              "#T_de988_row0_col0, #T_de988_row0_col1, #T_de988_row1_col0, #T_de988_row1_col1, #T_de988_row2_col0, #T_de988_row2_col1, #T_de988_row3_col0, #T_de988_row3_col1, #T_de988_row4_col0, #T_de988_row4_col1, #T_de988_row5_col0, #T_de988_row5_col1, #T_de988_row6_col0, #T_de988_row6_col1, #T_de988_row7_col0, #T_de988_row7_col1, #T_de988_row8_col0, #T_de988_row8_col1, #T_de988_row9_col0, #T_de988_row9_col1, #T_de988_row10_col0, #T_de988_row10_col1, #T_de988_row11_col0, #T_de988_row11_col1, #T_de988_row12_col0, #T_de988_row12_col1, #T_de988_row13_col0, #T_de988_row13_col1, #T_de988_row14_col0, #T_de988_row14_col1, #T_de988_row15_col0, #T_de988_row15_col1, #T_de988_row16_col0, #T_de988_row16_col1, #T_de988_row17_col0, #T_de988_row17_col1, #T_de988_row18_col0, #T_de988_row18_col1, #T_de988_row19_col0, #T_de988_row19_col1 {\n",
              "  background-color: lightblue;\n",
              "}\n",
              "#T_de988_row0_col2, #T_de988_row1_col2, #T_de988_row2_col2, #T_de988_row3_col2, #T_de988_row4_col2, #T_de988_row5_col2, #T_de988_row6_col2, #T_de988_row7_col2, #T_de988_row8_col2, #T_de988_row9_col2, #T_de988_row10_col2, #T_de988_row11_col2, #T_de988_row12_col2, #T_de988_row13_col2, #T_de988_row14_col2, #T_de988_row15_col2, #T_de988_row16_col2, #T_de988_row17_col2, #T_de988_row18_col2, #T_de988_row19_col2 {\n",
              "  background-color: yellow;\n",
              "}\n",
              "</style>\n",
              "<table id=\"T_de988\" class=\"dataframe\">\n",
              "  <thead>\n",
              "    <tr>\n",
              "      <th class=\"blank level0\" >&nbsp;</th>\n",
              "      <th id=\"T_de988_level0_col0\" class=\"col_heading level0 col0\" >Aggregate rating</th>\n",
              "      <th id=\"T_de988_level0_col1\" class=\"col_heading level0 col1\" >Restaurant Name</th>\n",
              "      <th id=\"T_de988_level0_col2\" class=\"col_heading level0 col2\" >Votes</th>\n",
              "    </tr>\n",
              "  </thead>\n",
              "  <tbody>\n",
              "    <tr>\n",
              "      <th id=\"T_de988_level0_row0\" class=\"row_heading level0 row0\" >463</th>\n",
              "      <td id=\"T_de988_row0_col0\" class=\"data row0 col0\" >4.100000</td>\n",
              "      <td id=\"T_de988_row0_col1\" class=\"data row0 col1\" >Fratini La Trattoria</td>\n",
              "      <td id=\"T_de988_row0_col2\" class=\"data row0 col2\" >35</td>\n",
              "    </tr>\n",
              "    <tr>\n",
              "      <th id=\"T_de988_level0_row1\" class=\"row_heading level0 row1\" >474</th>\n",
              "      <td id=\"T_de988_row1_col0\" class=\"data row1 col0\" >3.900000</td>\n",
              "      <td id=\"T_de988_row1_col1\" class=\"data row1 col1\" >Bitters & Love</td>\n",
              "      <td id=\"T_de988_row1_col2\" class=\"data row1 col2\" >35</td>\n",
              "    </tr>\n",
              "    <tr>\n",
              "      <th id=\"T_de988_level0_row2\" class=\"row_heading level0 row2\" >460</th>\n",
              "      <td id=\"T_de988_row2_col0\" class=\"data row2 col0\" >3.800000</td>\n",
              "      <td id=\"T_de988_row2_col1\" class=\"data row2 col1\" >Jaan</td>\n",
              "      <td id=\"T_de988_row2_col2\" class=\"data row2 col2\" >35</td>\n",
              "    </tr>\n",
              "    <tr>\n",
              "      <th id=\"T_de988_level0_row3\" class=\"row_heading level0 row3\" >456</th>\n",
              "      <td id=\"T_de988_row3_col0\" class=\"data row3 col0\" >3.400000</td>\n",
              "      <td id=\"T_de988_row3_col1\" class=\"data row3 col1\" >Sky On 57</td>\n",
              "      <td id=\"T_de988_row3_col2\" class=\"data row3 col2\" >34</td>\n",
              "    </tr>\n",
              "    <tr>\n",
              "      <th id=\"T_de988_level0_row4\" class=\"row_heading level0 row4\" >459</th>\n",
              "      <td id=\"T_de988_row4_col0\" class=\"data row4 col0\" >3.100000</td>\n",
              "      <td id=\"T_de988_row4_col1\" class=\"data row4 col1\" >Potato Head Folk</td>\n",
              "      <td id=\"T_de988_row4_col2\" class=\"data row4 col2\" >34</td>\n",
              "    </tr>\n",
              "    <tr>\n",
              "      <th id=\"T_de988_level0_row5\" class=\"row_heading level0 row5\" >469</th>\n",
              "      <td id=\"T_de988_row5_col0\" class=\"data row5 col0\" >3.900000</td>\n",
              "      <td id=\"T_de988_row5_col1\" class=\"data row5 col1\" >Summer Pavilion</td>\n",
              "      <td id=\"T_de988_row5_col2\" class=\"data row5 col2\" >34</td>\n",
              "    </tr>\n",
              "    <tr>\n",
              "      <th id=\"T_de988_level0_row6\" class=\"row_heading level0 row6\" >458</th>\n",
              "      <td id=\"T_de988_row6_col0\" class=\"data row6 col0\" >3.800000</td>\n",
              "      <td id=\"T_de988_row6_col1\" class=\"data row6 col1\" >Restaurant Andre</td>\n",
              "      <td id=\"T_de988_row6_col2\" class=\"data row6 col2\" >33</td>\n",
              "    </tr>\n",
              "    <tr>\n",
              "      <th id=\"T_de988_level0_row7\" class=\"row_heading level0 row7\" >457</th>\n",
              "      <td id=\"T_de988_row7_col0\" class=\"data row7 col0\" >4.000000</td>\n",
              "      <td id=\"T_de988_row7_col1\" class=\"data row7 col1\" >Cut By Wolfgang Puck</td>\n",
              "      <td id=\"T_de988_row7_col2\" class=\"data row7 col2\" >33</td>\n",
              "    </tr>\n",
              "    <tr>\n",
              "      <th id=\"T_de988_level0_row8\" class=\"row_heading level0 row8\" >470</th>\n",
              "      <td id=\"T_de988_row8_col0\" class=\"data row8 col0\" >3.100000</td>\n",
              "      <td id=\"T_de988_row8_col1\" class=\"data row8 col1\" >The Lokal</td>\n",
              "      <td id=\"T_de988_row8_col2\" class=\"data row8 col2\" >33</td>\n",
              "    </tr>\n",
              "    <tr>\n",
              "      <th id=\"T_de988_level0_row9\" class=\"row_heading level0 row9\" >475</th>\n",
              "      <td id=\"T_de988_row9_col0\" class=\"data row9 col0\" >3.200000</td>\n",
              "      <td id=\"T_de988_row9_col1\" class=\"data row9 col1\" >Artichoke Cafe</td>\n",
              "      <td id=\"T_de988_row9_col2\" class=\"data row9 col2\" >33</td>\n",
              "    </tr>\n",
              "    <tr>\n",
              "      <th id=\"T_de988_level0_row10\" class=\"row_heading level0 row10\" >461</th>\n",
              "      <td id=\"T_de988_row10_col0\" class=\"data row10 col0\" >3.900000</td>\n",
              "      <td id=\"T_de988_row10_col1\" class=\"data row10 col1\" >Rhubarb Le Restaurant</td>\n",
              "      <td id=\"T_de988_row10_col2\" class=\"data row10 col2\" >33</td>\n",
              "    </tr>\n",
              "    <tr>\n",
              "      <th id=\"T_de988_level0_row11\" class=\"row_heading level0 row11\" >466</th>\n",
              "      <td id=\"T_de988_row11_col0\" class=\"data row11 col0\" >3.700000</td>\n",
              "      <td id=\"T_de988_row11_col1\" class=\"data row11 col1\" >Chye Seng Huat Hardware</td>\n",
              "      <td id=\"T_de988_row11_col2\" class=\"data row11 col2\" >33</td>\n",
              "    </tr>\n",
              "    <tr>\n",
              "      <th id=\"T_de988_level0_row12\" class=\"row_heading level0 row12\" >471</th>\n",
              "      <td id=\"T_de988_row12_col0\" class=\"data row12 col0\" >3.200000</td>\n",
              "      <td id=\"T_de988_row12_col1\" class=\"data row12 col1\" >I Am</td>\n",
              "      <td id=\"T_de988_row12_col2\" class=\"data row12 col2\" >32</td>\n",
              "    </tr>\n",
              "    <tr>\n",
              "      <th id=\"T_de988_level0_row13\" class=\"row_heading level0 row13\" >468</th>\n",
              "      <td id=\"T_de988_row13_col0\" class=\"data row13 col0\" >3.800000</td>\n",
              "      <td id=\"T_de988_row13_col1\" class=\"data row13 col1\" >Colony</td>\n",
              "      <td id=\"T_de988_row13_col2\" class=\"data row13 col2\" >30</td>\n",
              "    </tr>\n",
              "    <tr>\n",
              "      <th id=\"T_de988_level0_row14\" class=\"row_heading level0 row14\" >472</th>\n",
              "      <td id=\"T_de988_row14_col0\" class=\"data row14 col0\" >3.200000</td>\n",
              "      <td id=\"T_de988_row14_col1\" class=\"data row14 col1\" >Super Loco</td>\n",
              "      <td id=\"T_de988_row14_col2\" class=\"data row14 col2\" >30</td>\n",
              "    </tr>\n",
              "    <tr>\n",
              "      <th id=\"T_de988_level0_row15\" class=\"row_heading level0 row15\" >465</th>\n",
              "      <td id=\"T_de988_row15_col0\" class=\"data row15 col0\" >3.200000</td>\n",
              "      <td id=\"T_de988_row15_col1\" class=\"data row15 col1\" >The Refinery Singapore</td>\n",
              "      <td id=\"T_de988_row15_col2\" class=\"data row15 col2\" >30</td>\n",
              "    </tr>\n",
              "    <tr>\n",
              "      <th id=\"T_de988_level0_row16\" class=\"row_heading level0 row16\" >462</th>\n",
              "      <td id=\"T_de988_row16_col0\" class=\"data row16 col0\" >4.200000</td>\n",
              "      <td id=\"T_de988_row16_col1\" class=\"data row16 col1\" >Al'frank Cookies</td>\n",
              "      <td id=\"T_de988_row16_col2\" class=\"data row16 col2\" >29</td>\n",
              "    </tr>\n",
              "    <tr>\n",
              "      <th id=\"T_de988_level0_row17\" class=\"row_heading level0 row17\" >464</th>\n",
              "      <td id=\"T_de988_row17_col0\" class=\"data row17 col0\" >3.200000</td>\n",
              "      <td id=\"T_de988_row17_col1\" class=\"data row17 col1\" >Boufe Boutique Cafe</td>\n",
              "      <td id=\"T_de988_row17_col2\" class=\"data row17 col2\" >29</td>\n",
              "    </tr>\n",
              "    <tr>\n",
              "      <th id=\"T_de988_level0_row18\" class=\"row_heading level0 row18\" >473</th>\n",
              "      <td id=\"T_de988_row18_col0\" class=\"data row18 col0\" >3.800000</td>\n",
              "      <td id=\"T_de988_row18_col1\" class=\"data row18 col1\" >Artistry</td>\n",
              "      <td id=\"T_de988_row18_col2\" class=\"data row18 col2\" >28</td>\n",
              "    </tr>\n",
              "    <tr>\n",
              "      <th id=\"T_de988_level0_row19\" class=\"row_heading level0 row19\" >467</th>\n",
              "      <td id=\"T_de988_row19_col0\" class=\"data row19 col0\" >3.000000</td>\n",
              "      <td id=\"T_de988_row19_col1\" class=\"data row19 col1\" >Makansutra Gluttons Bay</td>\n",
              "      <td id=\"T_de988_row19_col2\" class=\"data row19 col2\" >25</td>\n",
              "    </tr>\n",
              "  </tbody>\n",
              "</table>\n"
            ]
          },
          "metadata": {},
          "execution_count": 13
        }
      ]
    },
    {
      "cell_type": "markdown",
      "source": [
        "Australia\n"
      ],
      "metadata": {
        "id": "JWRIk3Sh6SrZ"
      }
    },
    {
      "cell_type": "code",
      "source": [
        "AusRes = df_merged[df_merged['Country'] == 'Australia']\n",
        "AusRes.City.value_counts()"
      ],
      "metadata": {
        "colab": {
          "base_uri": "https://localhost:8080/",
          "height": 837
        },
        "id": "s-ygoEM-6ekr",
        "outputId": "89e50eba-78f5-4631-9d78-4683f928eaa9"
      },
      "execution_count": 14,
      "outputs": [
        {
          "output_type": "execute_result",
          "data": {
            "text/plain": [
              "City\n",
              "Hepburn Springs    2\n",
              "Balingup           1\n",
              "Armidale           1\n",
              "Dicky Beach        1\n",
              "East Ballina       1\n",
              "Flaxton            1\n",
              "Beechworth         1\n",
              "Forrest            1\n",
              "Huskisson          1\n",
              "Inverloch          1\n",
              "Lakes Entrance     1\n",
              "Lorn               1\n",
              "Macedon            1\n",
              "Mayfield           1\n",
              "Middleton Beach    1\n",
              "Montville          1\n",
              "Palm Cove          1\n",
              "Paynesville        1\n",
              "Penola             1\n",
              "Phillip Island     1\n",
              "Tanunda            1\n",
              "Trentham East      1\n",
              "Victor Harbor      1\n",
              "Name: count, dtype: int64"
            ],
            "text/html": [
              "<div>\n",
              "<style scoped>\n",
              "    .dataframe tbody tr th:only-of-type {\n",
              "        vertical-align: middle;\n",
              "    }\n",
              "\n",
              "    .dataframe tbody tr th {\n",
              "        vertical-align: top;\n",
              "    }\n",
              "\n",
              "    .dataframe thead th {\n",
              "        text-align: right;\n",
              "    }\n",
              "</style>\n",
              "<table border=\"1\" class=\"dataframe\">\n",
              "  <thead>\n",
              "    <tr style=\"text-align: right;\">\n",
              "      <th></th>\n",
              "      <th>count</th>\n",
              "    </tr>\n",
              "    <tr>\n",
              "      <th>City</th>\n",
              "      <th></th>\n",
              "    </tr>\n",
              "  </thead>\n",
              "  <tbody>\n",
              "    <tr>\n",
              "      <th>Hepburn Springs</th>\n",
              "      <td>2</td>\n",
              "    </tr>\n",
              "    <tr>\n",
              "      <th>Balingup</th>\n",
              "      <td>1</td>\n",
              "    </tr>\n",
              "    <tr>\n",
              "      <th>Armidale</th>\n",
              "      <td>1</td>\n",
              "    </tr>\n",
              "    <tr>\n",
              "      <th>Dicky Beach</th>\n",
              "      <td>1</td>\n",
              "    </tr>\n",
              "    <tr>\n",
              "      <th>East Ballina</th>\n",
              "      <td>1</td>\n",
              "    </tr>\n",
              "    <tr>\n",
              "      <th>Flaxton</th>\n",
              "      <td>1</td>\n",
              "    </tr>\n",
              "    <tr>\n",
              "      <th>Beechworth</th>\n",
              "      <td>1</td>\n",
              "    </tr>\n",
              "    <tr>\n",
              "      <th>Forrest</th>\n",
              "      <td>1</td>\n",
              "    </tr>\n",
              "    <tr>\n",
              "      <th>Huskisson</th>\n",
              "      <td>1</td>\n",
              "    </tr>\n",
              "    <tr>\n",
              "      <th>Inverloch</th>\n",
              "      <td>1</td>\n",
              "    </tr>\n",
              "    <tr>\n",
              "      <th>Lakes Entrance</th>\n",
              "      <td>1</td>\n",
              "    </tr>\n",
              "    <tr>\n",
              "      <th>Lorn</th>\n",
              "      <td>1</td>\n",
              "    </tr>\n",
              "    <tr>\n",
              "      <th>Macedon</th>\n",
              "      <td>1</td>\n",
              "    </tr>\n",
              "    <tr>\n",
              "      <th>Mayfield</th>\n",
              "      <td>1</td>\n",
              "    </tr>\n",
              "    <tr>\n",
              "      <th>Middleton Beach</th>\n",
              "      <td>1</td>\n",
              "    </tr>\n",
              "    <tr>\n",
              "      <th>Montville</th>\n",
              "      <td>1</td>\n",
              "    </tr>\n",
              "    <tr>\n",
              "      <th>Palm Cove</th>\n",
              "      <td>1</td>\n",
              "    </tr>\n",
              "    <tr>\n",
              "      <th>Paynesville</th>\n",
              "      <td>1</td>\n",
              "    </tr>\n",
              "    <tr>\n",
              "      <th>Penola</th>\n",
              "      <td>1</td>\n",
              "    </tr>\n",
              "    <tr>\n",
              "      <th>Phillip Island</th>\n",
              "      <td>1</td>\n",
              "    </tr>\n",
              "    <tr>\n",
              "      <th>Tanunda</th>\n",
              "      <td>1</td>\n",
              "    </tr>\n",
              "    <tr>\n",
              "      <th>Trentham East</th>\n",
              "      <td>1</td>\n",
              "    </tr>\n",
              "    <tr>\n",
              "      <th>Victor Harbor</th>\n",
              "      <td>1</td>\n",
              "    </tr>\n",
              "  </tbody>\n",
              "</table>\n",
              "</div><br><label><b>dtype:</b> int64</label>"
            ]
          },
          "metadata": {},
          "execution_count": 14
        }
      ]
    },
    {
      "cell_type": "code",
      "source": [
        "AusRes = df_merged[df_merged['Country'] == 'Australia']\n",
        "\n",
        "AusTopRes = AusRes[(AusRes['City'] == 'Australia') & (AusRes['Aggregate rating'] > 4.5)][['Aggregate rating', 'Restaurant Name', 'Votes']].sort_values(ascending=False, by='Votes')"
      ],
      "metadata": {
        "id": "SxW0WaT_6xOP"
      },
      "execution_count": 15,
      "outputs": []
    },
    {
      "cell_type": "code",
      "source": [
        "AusTopRes.style.apply(lambda x: ['background-color: yellow' if x.name == 'Votes' else 'background-color: lightblue' for i in x])"
      ],
      "metadata": {
        "colab": {
          "base_uri": "https://localhost:8080/",
          "height": 49
        },
        "id": "HghOPTRN7GYR",
        "outputId": "6e3e0285-6a6d-4051-9525-4d5279d4a087"
      },
      "execution_count": 16,
      "outputs": [
        {
          "output_type": "execute_result",
          "data": {
            "text/plain": [
              "<pandas.io.formats.style.Styler at 0x7ad1c8bcb690>"
            ],
            "text/html": [
              "<style type=\"text/css\">\n",
              "</style>\n",
              "<table id=\"T_625c6\" class=\"dataframe\">\n",
              "  <thead>\n",
              "    <tr>\n",
              "      <th class=\"blank level0\" >&nbsp;</th>\n",
              "      <th id=\"T_625c6_level0_col0\" class=\"col_heading level0 col0\" >Aggregate rating</th>\n",
              "      <th id=\"T_625c6_level0_col1\" class=\"col_heading level0 col1\" >Restaurant Name</th>\n",
              "      <th id=\"T_625c6_level0_col2\" class=\"col_heading level0 col2\" >Votes</th>\n",
              "    </tr>\n",
              "  </thead>\n",
              "  <tbody>\n",
              "  </tbody>\n",
              "</table>\n"
            ]
          },
          "metadata": {},
          "execution_count": 16
        }
      ]
    },
    {
      "cell_type": "markdown",
      "source": [
        "Brazil"
      ],
      "metadata": {
        "id": "aeIuj4nt7c-E"
      }
    },
    {
      "cell_type": "code",
      "source": [
        "BrazRes = df_merged[df_merged['Country'] == 'Brazil']\n",
        "BrazRes.City.value_counts()"
      ],
      "metadata": {
        "colab": {
          "base_uri": "https://localhost:8080/",
          "height": 210
        },
        "id": "J9NODlfX7ho2",
        "outputId": "74796a25-a2d0-4b85-fc2e-f8fd7460c60d"
      },
      "execution_count": 17,
      "outputs": [
        {
          "output_type": "execute_result",
          "data": {
            "text/plain": [
              "City\n",
              "Brasí_lia         20\n",
              "Rio de Janeiro    20\n",
              "Sí£o Paulo        20\n",
              "Name: count, dtype: int64"
            ],
            "text/html": [
              "<div>\n",
              "<style scoped>\n",
              "    .dataframe tbody tr th:only-of-type {\n",
              "        vertical-align: middle;\n",
              "    }\n",
              "\n",
              "    .dataframe tbody tr th {\n",
              "        vertical-align: top;\n",
              "    }\n",
              "\n",
              "    .dataframe thead th {\n",
              "        text-align: right;\n",
              "    }\n",
              "</style>\n",
              "<table border=\"1\" class=\"dataframe\">\n",
              "  <thead>\n",
              "    <tr style=\"text-align: right;\">\n",
              "      <th></th>\n",
              "      <th>count</th>\n",
              "    </tr>\n",
              "    <tr>\n",
              "      <th>City</th>\n",
              "      <th></th>\n",
              "    </tr>\n",
              "  </thead>\n",
              "  <tbody>\n",
              "    <tr>\n",
              "      <th>Brasí_lia</th>\n",
              "      <td>20</td>\n",
              "    </tr>\n",
              "    <tr>\n",
              "      <th>Rio de Janeiro</th>\n",
              "      <td>20</td>\n",
              "    </tr>\n",
              "    <tr>\n",
              "      <th>Sí£o Paulo</th>\n",
              "      <td>20</td>\n",
              "    </tr>\n",
              "  </tbody>\n",
              "</table>\n",
              "</div><br><label><b>dtype:</b> int64</label>"
            ]
          },
          "metadata": {},
          "execution_count": 17
        }
      ]
    },
    {
      "cell_type": "code",
      "source": [
        "BrazRes = df_merged[df_merged['Country'] == 'Brazil']\n",
        "\n",
        "BrazTopRes = BrazRes[(BrazRes['City'] == 'Brazil') & (BrazRes['Aggregate rating'] > 0)][['Aggregate rating', 'Restaurant Name', 'Votes']].sort_values(ascending=False, by='Votes')"
      ],
      "metadata": {
        "id": "HmT67H3i7ovH"
      },
      "execution_count": 18,
      "outputs": []
    },
    {
      "cell_type": "code",
      "source": [
        "BrazTopRes.style.apply(lambda x: ['background-color: yellow' if x.name == 'Votes' else 'background-color: lightblue' for i in x])"
      ],
      "metadata": {
        "colab": {
          "base_uri": "https://localhost:8080/",
          "height": 49
        },
        "id": "dzdV4txC7v8_",
        "outputId": "5334f270-3175-4fac-bdbe-aa570a305396"
      },
      "execution_count": 19,
      "outputs": [
        {
          "output_type": "execute_result",
          "data": {
            "text/plain": [
              "<pandas.io.formats.style.Styler at 0x7ad1c8a71ed0>"
            ],
            "text/html": [
              "<style type=\"text/css\">\n",
              "</style>\n",
              "<table id=\"T_e503e\" class=\"dataframe\">\n",
              "  <thead>\n",
              "    <tr>\n",
              "      <th class=\"blank level0\" >&nbsp;</th>\n",
              "      <th id=\"T_e503e_level0_col0\" class=\"col_heading level0 col0\" >Aggregate rating</th>\n",
              "      <th id=\"T_e503e_level0_col1\" class=\"col_heading level0 col1\" >Restaurant Name</th>\n",
              "      <th id=\"T_e503e_level0_col2\" class=\"col_heading level0 col2\" >Votes</th>\n",
              "    </tr>\n",
              "  </thead>\n",
              "  <tbody>\n",
              "  </tbody>\n",
              "</table>\n"
            ]
          },
          "metadata": {},
          "execution_count": 19
        }
      ]
    },
    {
      "cell_type": "markdown",
      "source": [
        "# finding out the relationship between the rating and the votes\n"
      ],
      "metadata": {
        "id": "8SF_7zLPH1Mp"
      }
    },
    {
      "cell_type": "code",
      "source": [
        "sns.jointplot(x = 'Votes',y = 'Aggregate rating', data=DelhiTopRes)"
      ],
      "metadata": {
        "colab": {
          "base_uri": "https://localhost:8080/",
          "height": 624
        },
        "id": "2Mpjylj-HkHO",
        "outputId": "de182ef4-a0ff-4ae9-9c5d-3e12361f1fc0"
      },
      "execution_count": 20,
      "outputs": [
        {
          "output_type": "execute_result",
          "data": {
            "text/plain": [
              "<seaborn.axisgrid.JointGrid at 0x7ad1c94d9610>"
            ]
          },
          "metadata": {},
          "execution_count": 20
        },
        {
          "output_type": "display_data",
          "data": {
            "text/plain": [
              "<Figure size 600x600 with 3 Axes>"
            ],
            "image/png": "[encoded data removed]"
          },
          "metadata": {}
        }
      ]
    },
    {
      "cell_type": "markdown",
      "source": [
        "# no. of restaurants in each country"
      ],
      "metadata": {
        "id": "G-J5bM6M8ZTE"
      }
    },
    {
      "cell_type": "code",
      "source": [
        "country_restaurant_counts = df_merged['Country'].value_counts()\n",
        "\n",
        "print(\"Number of restaurants in each country:\")\n",
        "country_restaurant_counts"
      ],
      "metadata": {
        "colab": {
          "base_uri": "https://localhost:8080/",
          "height": 603
        },
        "id": "NPw2D5hV6FkQ",
        "outputId": "13ee5eef-cf1a-4184-f4f0-8011b1b7b284"
      },
      "execution_count": 21,
      "outputs": [
        {
          "output_type": "stream",
          "name": "stdout",
          "text": [
            "Number of restaurants in each country:\n"
          ]
        },
        {
          "output_type": "execute_result",
          "data": {
            "text/plain": [
              "Country\n",
              "India             8652\n",
              "United States      434\n",
              "United Kingdom      80\n",
              "Brazil              60\n",
              "South Africa        60\n",
              "UAE                 60\n",
              "New Zealand         40\n",
              "Turkey              34\n",
              "Australia           24\n",
              "Phillipines         22\n",
              "Indonesia           21\n",
              "Qatar               20\n",
              "Singapore           20\n",
              "Sri Lanka           20\n",
              "Canada               4\n",
              "Name: count, dtype: int64"
            ],
            "text/html": [
              "<div>\n",
              "<style scoped>\n",
              "    .dataframe tbody tr th:only-of-type {\n",
              "        vertical-align: middle;\n",
              "    }\n",
              "\n",
              "    .dataframe tbody tr th {\n",
              "        vertical-align: top;\n",
              "    }\n",
              "\n",
              "    .dataframe thead th {\n",
              "        text-align: right;\n",
              "    }\n",
              "</style>\n",
              "<table border=\"1\" class=\"dataframe\">\n",
              "  <thead>\n",
              "    <tr style=\"text-align: right;\">\n",
              "      <th></th>\n",
              "      <th>count</th>\n",
              "    </tr>\n",
              "    <tr>\n",
              "      <th>Country</th>\n",
              "      <th></th>\n",
              "    </tr>\n",
              "  </thead>\n",
              "  <tbody>\n",
              "    <tr>\n",
              "      <th>India</th>\n",
              "      <td>8652</td>\n",
              "    </tr>\n",
              "    <tr>\n",
              "      <th>United States</th>\n",
              "      <td>434</td>\n",
              "    </tr>\n",
              "    <tr>\n",
              "      <th>United Kingdom</th>\n",
              "      <td>80</td>\n",
              "    </tr>\n",
              "    <tr>\n",
              "      <th>Brazil</th>\n",
              "      <td>60</td>\n",
              "    </tr>\n",
              "    <tr>\n",
              "      <th>South Africa</th>\n",
              "      <td>60</td>\n",
              "    </tr>\n",
              "    <tr>\n",
              "      <th>UAE</th>\n",
              "      <td>60</td>\n",
              "    </tr>\n",
              "    <tr>\n",
              "      <th>New Zealand</th>\n",
              "      <td>40</td>\n",
              "    </tr>\n",
              "    <tr>\n",
              "      <th>Turkey</th>\n",
              "      <td>34</td>\n",
              "    </tr>\n",
              "    <tr>\n",
              "      <th>Australia</th>\n",
              "      <td>24</td>\n",
              "    </tr>\n",
              "    <tr>\n",
              "      <th>Phillipines</th>\n",
              "      <td>22</td>\n",
              "    </tr>\n",
              "    <tr>\n",
              "      <th>Indonesia</th>\n",
              "      <td>21</td>\n",
              "    </tr>\n",
              "    <tr>\n",
              "      <th>Qatar</th>\n",
              "      <td>20</td>\n",
              "    </tr>\n",
              "    <tr>\n",
              "      <th>Singapore</th>\n",
              "      <td>20</td>\n",
              "    </tr>\n",
              "    <tr>\n",
              "      <th>Sri Lanka</th>\n",
              "      <td>20</td>\n",
              "    </tr>\n",
              "    <tr>\n",
              "      <th>Canada</th>\n",
              "      <td>4</td>\n",
              "    </tr>\n",
              "  </tbody>\n",
              "</table>\n",
              "</div><br><label><b>dtype:</b> int64</label>"
            ]
          },
          "metadata": {},
          "execution_count": 21
        }
      ]
    },
    {
      "cell_type": "markdown",
      "source": [
        "# no. of restaurants in india which is unique\n"
      ],
      "metadata": {
        "id": "YCNxmm3UDhCg"
      }
    },
    {
      "cell_type": "code",
      "source": [
        "import pandas as pd\n",
        "\n",
        "# Load the dataset (use correct path if needed)\n",
        "df = pd.read_csv(\"zomato.csv\", encoding='latin1')\n",
        "\n",
        "# Filter for UK restaurants (Country Code 215)\n",
        "uk_restaurants = df[df['Country Code'] == 215]\n",
        "\n",
        "# Get unique restaurant names\n",
        "unique_uk_names = uk_restaurants['Restaurant Name'].dropna().unique()\n",
        "\n",
        "# Print total and a sample\n",
        "print(f\"Total unique restaurant names in UK: {len(unique_uk_names)}\")\n",
        "print(unique_uk_names[:10])\n"
      ],
      "metadata": {
        "colab": {
          "base_uri": "https://localhost:8080/"
        },
        "id": "QcFGYcliGxCo",
        "outputId": "346abca4-389e-4882-fc33-48050393a97a"
      },
      "execution_count": 22,
      "outputs": [
        {
          "output_type": "stream",
          "name": "stdout",
          "text": [
            "Total unique restaurant names in UK: 74\n",
            "[\"Pepe's Piri Piri\" \"Ju Ju's Cafe\" 'Bank' 'Chaophraya'\n",
            " 'Handmade Burger Co.' \"Jamie's Italian\" 'Bodega' 'San Carlo' \"Purnell's\"\n",
            " 'The Warehouse Cafe']\n"
          ]
        }
      ]
    },
    {
      "cell_type": "code",
      "source": [
        "India_restaurants = df[df['Country Code'] == 1]\n",
        "unique_india_names = India_restaurants['Restaurant Name'].dropna().unique()\n",
        "print(f\"Total unique restaurant names in India: {len(unique_india_names)}\")"
      ],
      "metadata": {
        "colab": {
          "base_uri": "https://localhost:8080/"
        },
        "id": "nZg184xgDoSZ",
        "outputId": "656c886a-9514-4038-dd33-f7c65d7079eb"
      },
      "execution_count": 23,
      "outputs": [
        {
          "output_type": "stream",
          "name": "stdout",
          "text": [
            "Total unique restaurant names in India: 6604\n"
          ]
        }
      ]
    },
    {
      "cell_type": "code",
      "source": [
        "UAE_restaurants = df[df['Country Code'] == 214]\n",
        "unique_UAE_names = UAE_restaurants['Restaurant Name'].dropna().unique()\n",
        "print(f\"Total unique restaurant names in UAE: {len(unique_UAE_names)}\")"
      ],
      "metadata": {
        "colab": {
          "base_uri": "https://localhost:8080/"
        },
        "id": "3Q08r0sPF3mM",
        "outputId": "dde5cf9e-6526-4210-c7bd-c80e22739e44"
      },
      "execution_count": 24,
      "outputs": [
        {
          "output_type": "stream",
          "name": "stdout",
          "text": [
            "Total unique restaurant names in UAE: 55\n"
          ]
        }
      ]
    },
    {
      "cell_type": "markdown",
      "source": [
        "# Top 5 restaurants with online delivery"
      ],
      "metadata": {
        "id": "gIV7FsQz8vl2"
      }
    },
    {
      "cell_type": "code",
      "source": [
        "online_delivery_restaurants = df_merged[df_merged['Has Online delivery'] == 'Yes']\n",
        "\n",
        "top_5_online_delivery = online_delivery_restaurants.sort_values(by='Votes', ascending=False).head(5)\n",
        "\n",
        "print(\"Top 5 restaurants with online delivery based on votes:\")\n",
        "print(top_5_online_delivery[['Restaurant Name', 'Votes', 'Aggregate rating', 'City', 'Country']])"
      ],
      "metadata": {
        "colab": {
          "base_uri": "https://localhost:8080/"
        },
        "id": "b4VEP-X780wT",
        "outputId": "6af15ce7-1333-4d6c-8109-c1b0ed94cce8"
      },
      "execution_count": 25,
      "outputs": [
        {
          "output_type": "stream",
          "name": "stdout",
          "text": [
            "Top 5 restaurants with online delivery based on votes:\n",
            "       Restaurant Name  Votes  Aggregate rating       City Country\n",
            "735           Truffles   9667               4.7  Bangalore   India\n",
            "3994  Hauz Khas Social   7931               4.3  New Delhi   India\n",
            "2412         Peter Cat   7574               4.3    Kolkata   India\n",
            "743        Big Brewsky   5705               4.5  Bangalore   India\n",
            "2411             BarBQ   5288               4.2    Kolkata   India\n"
          ]
        }
      ]
    },
    {
      "cell_type": "code",
      "source": [
        "delhi_online_delivery = df_merged[(df_merged['City'] == 'New Delhi') & (df_merged['Has Online delivery'] == 'Yes')]\n",
        "\n",
        "top_5_delhi_online_delivery = delhi_online_delivery.sort_values(by='Votes', ascending=False).head(5)\n",
        "\n",
        "print(\"Top 5 restaurants in New Delhi with online delivery based on votes:\")\n",
        "print(top_5_delhi_online_delivery[['Restaurant Name', 'Votes', 'Aggregate rating', 'City', 'Country']])"
      ],
      "metadata": {
        "colab": {
          "base_uri": "https://localhost:8080/"
        },
        "id": "J_NLzxQULYF0",
        "outputId": "3ee72a6a-2ec5-4b61-e364-da0d6755fb55"
      },
      "execution_count": 26,
      "outputs": [
        {
          "output_type": "stream",
          "name": "stdout",
          "text": [
            "Top 5 restaurants in New Delhi with online delivery based on votes:\n",
            "       Restaurant Name  Votes  Aggregate rating       City Country\n",
            "3994  Hauz Khas Social   7931               4.3  New Delhi   India\n",
            "3110   Saravana Bhavan   5172               4.3  New Delhi   India\n",
            "6144            Gulati   4373               4.4  New Delhi   India\n",
            "3316   QD's Restaurant   2724               3.9  New Delhi   India\n",
            "3016           Berco's   2639               3.9  New Delhi   India\n"
          ]
        }
      ]
    },
    {
      "cell_type": "code",
      "source": [
        "Gurgaon_online_delivery = df_merged[(df_merged['City'] == 'Gurgaon') & (df_merged['Has Online delivery'] == 'Yes')]\n",
        "\n",
        "top_5_gurgaon_online_delivery = Gurgaon_online_delivery.sort_values(by='Votes', ascending=False).head(5)\n",
        "\n",
        "print(\"Top 5 restaurants in Gurgaon with online delivery based on votes:\")\n",
        "print(top_5_gurgaon_online_delivery[['Restaurant Name', 'Votes', 'Aggregate rating', 'City', 'Country']])"
      ],
      "metadata": {
        "colab": {
          "base_uri": "https://localhost:8080/"
        },
        "id": "tuGHCNY5L2j4",
        "outputId": "7a995683-72a5-463a-b5ea-8a7b218254f6"
      },
      "execution_count": 27,
      "outputs": [
        {
          "output_type": "stream",
          "name": "stdout",
          "text": [
            "Top 5 restaurants in Gurgaon with online delivery based on votes:\n",
            "         Restaurant Name  Votes  Aggregate rating     City Country\n",
            "1163        Punjab Grill   1887               4.3  Gurgaon   India\n",
            "1256             Nando's   1730               4.0  Gurgaon   India\n",
            "1251  Dhaba By Claridges   1658               4.0  Gurgaon   India\n",
            "1840       21 Gun Salute   1365               3.9  Gurgaon   India\n",
            "2099   Indian Grill Room   1262               4.5  Gurgaon   India\n"
          ]
        }
      ]
    },
    {
      "cell_type": "code",
      "source": [
        "Noida_online_delivery = df_merged[(df_merged['City'] == 'Noida') & (df_merged['Has Online delivery'] == 'Yes')]\n",
        "\n",
        "top_5_noida_online_delivery = Noida_online_delivery.sort_values(by='Votes', ascending=False).head(5)\n",
        "\n",
        "print(\"Top 5 restaurants in noida with online delivery based on votes:\")\n",
        "print(top_5_noida_online_delivery[['Restaurant Name', 'Votes', 'Aggregate rating', 'City', 'Country']])"
      ],
      "metadata": {
        "colab": {
          "base_uri": "https://localhost:8080/"
        },
        "id": "_X5ndCCMMiKk",
        "outputId": "91257cb2-fc49-4c93-b17f-a64d108c5a7e"
      },
      "execution_count": 28,
      "outputs": [
        {
          "output_type": "stream",
          "name": "stdout",
          "text": [
            "Top 5 restaurants in noida with online delivery based on votes:\n",
            "     Restaurant Name  Votes  Aggregate rating   City Country\n",
            "8434      Desi Vibes   2019               3.8  Noida   India\n",
            "8289         Berco's   1182               3.7  Noida   India\n",
            "9096    TGI Friday's   1147               3.5  Noida   India\n",
            "8431   Burbee's Cafe    833               3.7  Noida   India\n",
            "9082   Pind Balluchi    793               3.3  Noida   India\n"
          ]
        }
      ]
    },
    {
      "cell_type": "markdown",
      "source": [
        "# cheap but best restaurants available in a city"
      ],
      "metadata": {
        "id": "z-KOpdsG9Hcd"
      }
    },
    {
      "cell_type": "code",
      "source": [
        "import pandas as pd\n",
        "def find_cheap_best_restaurants(df, city_name, top_n=10):\n",
        "    city_restaurants = df[df['City'] == city_name].copy()\n",
        "\n",
        "    cheap_best_restaurants = city_restaurants.sort_values(\n",
        "        by=['Average Cost for two', 'Aggregate rating', 'Votes'],\n",
        "        ascending=[True, False, False]).head(top_n)\n",
        "\n",
        "    return cheap_best_restaurants[['Restaurant Name', 'Average Cost for two', 'Aggregate rating', 'Votes', 'Cuisines']]\n",
        "\n",
        "new_delhi_cheap_best = find_cheap_best_restaurants(df_merged, 'New Delhi')\n",
        "print(f\"\\nTop cheap and best restaurants in New Delhi:\")\n",
        "print(new_delhi_cheap_best)\n"
      ],
      "metadata": {
        "colab": {
          "base_uri": "https://localhost:8080/"
        },
        "id": "hffKF4_J9JDJ",
        "outputId": "29c6fab3-a9fd-4fed-c70f-ea6760a5349d"
      },
      "execution_count": 29,
      "outputs": [
        {
          "output_type": "stream",
          "name": "stdout",
          "text": [
            "\n",
            "Top cheap and best restaurants in New Delhi:\n",
            "                    Restaurant Name  Average Cost for two  Aggregate rating  \\\n",
            "2901      Jung Bahadur Kachori Wala                    50               4.1   \n",
            "4508             Sharma Kachoriwala                    50               3.7   \n",
            "4607               Pakode Ki Dukaan                    50               3.6   \n",
            "5332                  Duggal Snacks                    50               3.6   \n",
            "2854  Pandit Ved Prakash Lemon Wale                    50               3.2   \n",
            "4714            Shri Ram Poori Wale                    50               2.8   \n",
            "7775         Aggarwal Confectionary                    50               2.8   \n",
            "7646            Shahi Kachauri Wale                    50               2.8   \n",
            "7647                 Shahi Kachauri                    50               2.8   \n",
            "7656           Aggarwal Jalebi Wale                    50               0.0   \n",
            "\n",
            "      Votes                Cuisines  \n",
            "2901    405             Street Food  \n",
            "4508    131             Street Food  \n",
            "4607     35             Street Food  \n",
            "5332     32             Street Food  \n",
            "2854     11  Beverages, Street Food  \n",
            "4714      8             Street Food  \n",
            "7775      7     Street Food, Bakery  \n",
            "7646      6             Street Food  \n",
            "7647      4             Street Food  \n",
            "7656      3             Street Food  \n"
          ]
        }
      ]
    },
    {
      "cell_type": "markdown",
      "source": [
        "# Top cuisines in each region."
      ],
      "metadata": {
        "id": "Spzi1-8t9_7R"
      }
    },
    {
      "cell_type": "code",
      "source": [
        "def top_cuisines_by_country(df):\n",
        "  top_cuisines = {}\n",
        "  for country in df['Country'].unique():\n",
        "    country_df = df[df['Country'] == country]\n",
        "    if not country_df.empty:\n",
        "      cuisines = country_df['Cuisines'].str.split(', ').explode()\n",
        "      top_cuisines[country] = cuisines.value_counts().head(5).index.tolist()\n",
        "  return top_cuisines\n",
        "\n",
        "# Get top cuisines for each country\n",
        "country_top_cuisines = top_cuisines_by_country(df_merged)\n",
        "\n",
        "# Print the results\n",
        "for country, cuisines in country_top_cuisines.items():\n",
        "  print(f\"Top cuisines in {country}: {', '.join(cuisines)}\")"
      ],
      "metadata": {
        "colab": {
          "base_uri": "https://localhost:8080/"
        },
        "id": "FnIOkier-DJV",
        "outputId": "74cf3cd7-46f7-4106-908f-43557641a38d"
      },
      "execution_count": 30,
      "outputs": [
        {
          "output_type": "stream",
          "name": "stdout",
          "text": [
            "Top cuisines in Phillipines: Filipino, Asian, Japanese, American, Seafood\n",
            "Top cuisines in Brazil: Brazilian, Bar Food, Italian, Pizza, Grill\n",
            "Top cuisines in United States: American, Seafood, Sandwich, Burger, Pizza\n",
            "Top cuisines in Australia: Modern Australian, Coffee and Tea, Cafe, Breakfast, Australian\n",
            "Top cuisines in Canada: Japanese, Sushi, Chinese, Canadian, Italian\n",
            "Top cuisines in Singapore: American, Singaporean, French, Bakery, Chinese\n",
            "Top cuisines in UAE: Indian, American, Chinese, North Indian, Burger\n",
            "Top cuisines in India: North Indian, Chinese, Fast Food, Mughlai, Bakery\n",
            "Top cuisines in Indonesia: Western, Indonesian, Cafe, Japanese, Sunda\n",
            "Top cuisines in New Zealand: Cafe, European, Kiwi, Desserts, American\n",
            "Top cuisines in United Kingdom: Indian, Cafe, British, American, Italian\n",
            "Top cuisines in Qatar: Indian, American, Chinese, Steak, International\n",
            "Top cuisines in South Africa: Burger, Grill, Cafe, Sushi, Seafood\n",
            "Top cuisines in Sri Lanka: American, Sri Lankan, Desserts, Cafe, North Indian\n",
            "Top cuisines in Turkey: Kebab, Cafe, Turkish Pizza, Desserts, World Cuisine\n"
          ]
        }
      ]
    },
    {
      "cell_type": "markdown",
      "source": [
        "# Aggregate rating of all the restaurants in each city in a country."
      ],
      "metadata": {
        "id": "9uCqizOi-QCA"
      }
    },
    {
      "cell_type": "code",
      "source": [
        "city_country_aggregate_rating = df_merged.groupby(['Country', 'City'])['Aggregate rating'].mean()\n",
        "\n",
        "print(\"Aggregate rating of restaurants in each city by country:\")\n",
        "city_country_aggregate_rating"
      ],
      "metadata": {
        "colab": {
          "base_uri": "https://localhost:8080/",
          "height": 507
        },
        "id": "NF9u4WKf-lxd",
        "outputId": "27ebe75a-0792-4997-ed05-5a57633e95ef"
      },
      "execution_count": 31,
      "outputs": [
        {
          "output_type": "stream",
          "name": "stdout",
          "text": [
            "Aggregate rating of restaurants in each city by country:\n"
          ]
        },
        {
          "output_type": "execute_result",
          "data": {
            "text/plain": [
              "Country        City          \n",
              "Australia      Armidale          3.500\n",
              "               Balingup          3.200\n",
              "               Beechworth        4.600\n",
              "               Dicky Beach       3.600\n",
              "               East Ballina      4.100\n",
              "                                 ...  \n",
              "United States  Valdosta          3.715\n",
              "               Vernonia          4.300\n",
              "               Waterloo          3.650\n",
              "               Weirton           3.900\n",
              "               Winchester Bay    3.200\n",
              "Name: Aggregate rating, Length: 141, dtype: float64"
            ],
            "text/html": [
              "<div>\n",
              "<style scoped>\n",
              "    .dataframe tbody tr th:only-of-type {\n",
              "        vertical-align: middle;\n",
              "    }\n",
              "\n",
              "    .dataframe tbody tr th {\n",
              "        vertical-align: top;\n",
              "    }\n",
              "\n",
              "    .dataframe thead th {\n",
              "        text-align: right;\n",
              "    }\n",
              "</style>\n",
              "<table border=\"1\" class=\"dataframe\">\n",
              "  <thead>\n",
              "    <tr style=\"text-align: right;\">\n",
              "      <th></th>\n",
              "      <th></th>\n",
              "      <th>Aggregate rating</th>\n",
              "    </tr>\n",
              "    <tr>\n",
              "      <th>Country</th>\n",
              "      <th>City</th>\n",
              "      <th></th>\n",
              "    </tr>\n",
              "  </thead>\n",
              "  <tbody>\n",
              "    <tr>\n",
              "      <th rowspan=\"5\" valign=\"top\">Australia</th>\n",
              "      <th>Armidale</th>\n",
              "      <td>3.500</td>\n",
              "    </tr>\n",
              "    <tr>\n",
              "      <th>Balingup</th>\n",
              "      <td>3.200</td>\n",
              "    </tr>\n",
              "    <tr>\n",
              "      <th>Beechworth</th>\n",
              "      <td>4.600</td>\n",
              "    </tr>\n",
              "    <tr>\n",
              "      <th>Dicky Beach</th>\n",
              "      <td>3.600</td>\n",
              "    </tr>\n",
              "    <tr>\n",
              "      <th>East Ballina</th>\n",
              "      <td>4.100</td>\n",
              "    </tr>\n",
              "    <tr>\n",
              "      <th>...</th>\n",
              "      <th>...</th>\n",
              "      <td>...</td>\n",
              "    </tr>\n",
              "    <tr>\n",
              "      <th rowspan=\"5\" valign=\"top\">United States</th>\n",
              "      <th>Valdosta</th>\n",
              "      <td>3.715</td>\n",
              "    </tr>\n",
              "    <tr>\n",
              "      <th>Vernonia</th>\n",
              "      <td>4.300</td>\n",
              "    </tr>\n",
              "    <tr>\n",
              "      <th>Waterloo</th>\n",
              "      <td>3.650</td>\n",
              "    </tr>\n",
              "    <tr>\n",
              "      <th>Weirton</th>\n",
              "      <td>3.900</td>\n",
              "    </tr>\n",
              "    <tr>\n",
              "      <th>Winchester Bay</th>\n",
              "      <td>3.200</td>\n",
              "    </tr>\n",
              "  </tbody>\n",
              "</table>\n",
              "<p>141 rows × 1 columns</p>\n",
              "</div><br><label><b>dtype:</b> float64</label>"
            ]
          },
          "metadata": {},
          "execution_count": 31
        }
      ]
    },
    {
      "cell_type": "markdown",
      "source": [
        "# Does rating influences the cost of restaurant? (Draw boxplot for this)."
      ],
      "metadata": {
        "id": "ZoPLGP6f-1KC"
      }
    },
    {
      "cell_type": "code",
      "source": [
        "import matplotlib.pyplot as plt\n",
        "import seaborn as sns\n",
        "df_merged['Aggregate rating'] = df_merged['Aggregate rating'].astype('category')\n",
        "\n",
        "plt.figure(figsize=(12, 8))\n",
        "sns.boxplot(x='Aggregate rating', y='Average Cost for two', data=df_merged)\n",
        "plt.title('Distribution of Average Cost for Two by Aggregate Rating')\n",
        "plt.xlabel('Aggregate Rating')\n",
        "plt.ylabel('Average Cost for Two')\n",
        "plt.xticks(rotation=45)\n",
        "plt.show()"
      ],
      "metadata": {
        "colab": {
          "base_uri": "https://localhost:8080/",
          "height": 730
        },
        "id": "sjmBl_Cd-5UM",
        "outputId": "61eb270a-51d0-45ca-9a41-40c4aa3aa598"
      },
      "execution_count": 32,
      "outputs": [
        {
          "output_type": "display_data",
          "data": {
            "text/plain": [
              "<Figure size 1200x800 with 1 Axes>"
            ],
            "image/png": "[encoded data removed]"
          },
          "metadata": {}
        }
      ]
    },
    {
      "cell_type": "markdown",
      "source": [
        "# Top Percentage cover of restaurants in a city.(Draw pie graph for this)."
      ],
      "metadata": {
        "id": "cdSuQlAv_Le6"
      }
    },
    {
      "cell_type": "code",
      "source": [
        "import matplotlib.pyplot as plt\n",
        "# Function to get percentage cover of restaurants in a city\n",
        "def city_restaurant_percentage(df, city_name):\n",
        "    city_df = df[df['City'] == city_name]\n",
        "    if city_df.empty:\n",
        "        print(f\"No restaurants found in {city_name}\")\n",
        "        return\n",
        "\n",
        "    # Calculate the percentage of restaurants in this city compared to the total\n",
        "    total_restaurants = len(df)\n",
        "    city_restaurants_count = len(city_df)\n",
        "    percentage = (city_restaurants_count / total_restaurants) * 100\n",
        "\n",
        "    print(f\"Percentage of restaurants in {city_name}: {percentage:.2f}%\")\n",
        "\n",
        "    # To draw a pie chart of top cities' restaurant percentages,\n",
        "\n",
        "    top_n = 10 # You can adjust this number\n",
        "    city_counts = df['City'].value_counts()\n",
        "    top_cities = city_counts.head(top_n)\n",
        "    other_cities_count = city_counts[top_n:].sum()\n",
        "\n",
        "    # Prepare data for the pie chart\n",
        "    labels = top_cities.index.tolist()\n",
        "    sizes = top_cities.values.tolist()\n",
        "\n",
        "    if other_cities_count > 0:\n",
        "        labels.append('Other Cities')\n",
        "        sizes.append(other_cities_count)\n",
        "\n",
        "    plt.figure(figsize=(10, 10))\n",
        "    plt.pie(sizes, labels=labels, autopct='%1.1f%%', startangle=140)\n",
        "    plt.title('Percentage of Restaurants per City (Top 10)')\n",
        "    plt.axis('equal')  # Equal aspect ratio ensures that pie is drawn as a circle.\n",
        "    plt.show()\n",
        "city_restaurant_percentage(df_merged, 'New Delhi')"
      ],
      "metadata": {
        "colab": {
          "base_uri": "https://localhost:8080/",
          "height": 846
        },
        "id": "wFLpzOdG_Mr1",
        "outputId": "12d60e8f-8c07-4307-aca7-4f7ac901aa4e"
      },
      "execution_count": 33,
      "outputs": [
        {
          "output_type": "stream",
          "name": "stdout",
          "text": [
            "Percentage of restaurants in New Delhi: 57.30%\n"
          ]
        },
        {
          "output_type": "display_data",
          "data": {
            "text/plain": [
              "<Figure size 1000x1000 with 1 Axes>"
            ],
            "image/png": "[encoded data removed]"
          },
          "metadata": {}
        }
      ]
    },
    {
      "cell_type": "markdown",
      "source": [
        "# Top cuisines in Indian restaurants.( Draw pie graph for this)"
      ],
      "metadata": {
        "id": "2Ok2mpXv_nOW"
      }
    },
    {
      "cell_type": "code",
      "source": [
        "import matplotlib.pyplot as plt\n",
        "# Top cuisines in Indian restaurants\n",
        "india_cuisines = indiaRes['Cuisines'].str.split(', ').explode().value_counts().head(10)\n",
        "\n",
        "plt.figure(figsize=(10, 10))\n",
        "plt.pie(india_cuisines, labels=india_cuisines.index, autopct='%1.1f%%', startangle=140)\n",
        "plt.title('Top 10 Cuisines in Indian Restaurants')\n",
        "plt.axis('equal')\n",
        "plt.show()"
      ],
      "metadata": {
        "colab": {
          "base_uri": "https://localhost:8080/",
          "height": 832
        },
        "id": "l_UzUWp3_rEO",
        "outputId": "0a62b4b8-b631-4939-e8f5-d3facddfe85a"
      },
      "execution_count": 34,
      "outputs": [
        {
          "output_type": "display_data",
          "data": {
            "text/plain": [
              "<Figure size 1000x1000 with 1 Axes>"
            ],
            "image/png": "[encoded data removed]"
          },
          "metadata": {}
        }
      ]
    }
  ]
}